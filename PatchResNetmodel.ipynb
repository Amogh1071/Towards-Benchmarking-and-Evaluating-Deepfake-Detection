{
 "cells": [
  {
   "cell_type": "code",
   "id": "initial_id",
   "metadata": {
    "collapsed": true,
    "ExecuteTime": {
     "end_time": "2025-07-04T16:08:10.649377Z",
     "start_time": "2025-07-04T16:08:07.147548Z"
    }
   },
   "source": [
    "# Cell 1: Imports\n",
    "import os\n",
    "import glob\n",
    "from PIL import Image\n",
    "import torch\n",
    "import torch.nn as nn\n",
    "import torchvision.transforms as transforms\n",
    "from torch.utils.data import Dataset, DataLoader\n",
    "from sklearn.metrics import roc_auc_score, roc_curve\n",
    "import matplotlib.pyplot as plt\n",
    "import numpy as np\n",
    "from tqdm import tqdm\n",
    "import timm  # Pretrained models including EfficientNet\n",
    "import glob\n"
   ],
   "outputs": [
    {
     "name": "stderr",
     "output_type": "stream",
     "text": [
      "E:\\PythonProject\\.venv\\lib\\site-packages\\tqdm\\auto.py:21: TqdmWarning: IProgress not found. Please update jupyter and ipywidgets. See https://ipywidgets.readthedocs.io/en/stable/user_install.html\n",
      "  from .autonotebook import tqdm as notebook_tqdm\n"
     ]
    }
   ],
   "execution_count": 1
  },
  {
   "metadata": {
    "ExecuteTime": {
     "end_time": "2025-07-04T16:08:10.665901Z",
     "start_time": "2025-07-04T16:08:10.651391Z"
    }
   },
   "cell_type": "code",
   "source": [
    "class UADFVFrameDataset(Dataset):\n",
    "    def __init__(self, root_dir, transform=None):\n",
    "        self.samples = []\n",
    "        self.transform = transform\n",
    "\n",
    "        for label, class_name in enumerate(['real', 'fake']):\n",
    "            class_path = os.path.join(root_dir, class_name, 'frames')\n",
    "            video_folders = glob.glob(os.path.join(class_path, '*'))\n",
    "\n",
    "            for folder in video_folders:\n",
    "                for img_path in glob.glob(os.path.join(folder, '*.png')):\n",
    "                    self.samples.append((img_path, label))\n",
    "\n",
    "    def __len__(self):\n",
    "        return len(self.samples)\n",
    "\n",
    "    def __getitem__(self, idx):\n",
    "        img_path, label = self.samples[idx]\n",
    "        img = Image.open(img_path).convert('RGB')\n",
    "        if self.transform:\n",
    "            img = self.transform(img)\n",
    "        return img, label"
   ],
   "id": "b154c2f295dbf164",
   "outputs": [],
   "execution_count": 2
  },
  {
   "metadata": {
    "ExecuteTime": {
     "end_time": "2025-07-04T16:30:32.995443Z",
     "start_time": "2025-07-04T16:30:32.983559Z"
    }
   },
   "cell_type": "code",
   "source": [
    "class DFTIMITFrameDataset(Dataset):\n",
    "    def __init__(self, root_dir, transform=None):\n",
    "        self.samples = []\n",
    "        self.transform = transform\n",
    "\n",
    "        for label, class_name in enumerate(['real', 'fake']):\n",
    "            class_path = os.path.join(root_dir, class_name)\n",
    "            video_folders = glob.glob(os.path.join(class_path, '*'))\n",
    "\n",
    "            for folder in video_folders:\n",
    "                for img_path in glob.glob(os.path.join(folder, '*.png')):\n",
    "                    self.samples.append((img_path, label))\n",
    "\n",
    "    def __len__(self):\n",
    "        return len(self.samples)\n",
    "\n",
    "    def __getitem__(self, idx):\n",
    "        img_path, label = self.samples[idx]\n",
    "        img = Image.open(img_path).convert('RGB')\n",
    "        if self.transform:\n",
    "            img = self.transform(img)\n",
    "        return img, label\n"
   ],
   "id": "c071a2ee2edf7a65",
   "outputs": [],
   "execution_count": 9
  },
  {
   "metadata": {
    "ExecuteTime": {
     "end_time": "2025-07-04T16:30:33.650572Z",
     "start_time": "2025-07-04T16:30:33.560152Z"
    }
   },
   "cell_type": "code",
   "source": [
    "import os\n",
    "import cv2\n",
    "import glob\n",
    "from tqdm import tqdm\n",
    "\n",
    "def extract_frames_from_videos(video_dir, output_dir, fps=1):\n",
    "    os.makedirs(output_dir, exist_ok=True)\n",
    "    video_files = glob.glob(os.path.join(video_dir, '*.mp4'))  # ✅ Correct usage\n",
    "\n",
    "    for video_path in tqdm(video_files, desc=\"Extracting frames\"):\n",
    "        video_name = os.path.splitext(os.path.basename(video_path))[0]\n",
    "        frame_output_dir = os.path.join(output_dir, video_name)\n",
    "        os.makedirs(frame_output_dir, exist_ok=True)\n",
    "\n",
    "        cap = cv2.VideoCapture(video_path)\n",
    "        frame_rate = cap.get(cv2.CAP_PROP_FPS)\n",
    "        frame_interval = int(frame_rate // fps) if fps < frame_rate else 1\n",
    "\n",
    "        frame_count = 0\n",
    "        saved_count = 0\n",
    "        while cap.isOpened():\n",
    "            ret, frame = cap.read()\n",
    "            if not ret:\n",
    "                break\n",
    "            if frame_count % frame_interval == 0:\n",
    "                out_path = os.path.join(frame_output_dir, f\"{saved_count:04d}.png\")\n",
    "                cv2.imwrite(out_path, frame)\n",
    "                saved_count += 1\n",
    "            frame_count += 1\n",
    "        cap.release()"
   ],
   "id": "2d7dae8c0002307c",
   "outputs": [],
   "execution_count": 10
  },
  {
   "metadata": {
    "ExecuteTime": {
     "end_time": "2025-07-04T16:30:38.421963Z",
     "start_time": "2025-07-04T16:30:38.393974Z"
    }
   },
   "cell_type": "code",
   "source": [
    "class FaceForensicsDataset(Dataset):\n",
    "    def __init__(self, root_dir, method='Deepfakes', compression='c40', transform=None):\n",
    "        self.samples = []\n",
    "        self.transform = transform\n",
    "\n",
    "        # Real frames\n",
    "        real_path = os.path.join(root_dir, 'original_sequences', 'youtube', compression, 'frames')\n",
    "        real_video_dirs = glob.glob(os.path.join(real_path, '*'))\n",
    "        for folder in real_video_dirs:\n",
    "            for img_path in glob.glob(os.path.join(folder, '*.png')):\n",
    "                self.samples.append((img_path, 0))\n",
    "\n",
    "        # Fake frames\n",
    "        fake_path = os.path.join(root_dir, 'manipulated_sequences', method, compression, 'frames')\n",
    "        fake_video_dirs = glob.glob(os.path.join(fake_path, '*'))\n",
    "        for folder in fake_video_dirs:\n",
    "            for img_path in glob.glob(os.path.join(folder, '*.png')):\n",
    "                self.samples.append((img_path, 1))\n",
    "\n",
    "    def __len__(self):\n",
    "        return len(self.samples)\n",
    "\n",
    "    def __getitem__(self, idx):\n",
    "        img_path, label = self.samples[idx]\n",
    "        img = Image.open(img_path).convert('RGB')\n",
    "        if self.transform:\n",
    "            img = self.transform(img)\n",
    "        return img, label\n"
   ],
   "id": "a5d9e30e5d9f5fc",
   "outputs": [],
   "execution_count": 11
  },
  {
   "metadata": {
    "ExecuteTime": {
     "end_time": "2025-07-04T16:30:39.308819Z",
     "start_time": "2025-07-04T16:30:39.297899Z"
    }
   },
   "cell_type": "code",
   "source": [
    "train_transform = transforms.Compose([\n",
    "    transforms.Resize((256, 256)),\n",
    "    transforms.RandomHorizontalFlip(p=0.5),\n",
    "    transforms.ColorJitter(brightness=0.2, contrast=0.2, saturation=0.2, hue=0.1),\n",
    "    transforms.RandomRotation(10),\n",
    "    transforms.ToTensor(),\n",
    "    transforms.Normalize(mean=[0.485, 0.456, 0.406], std=[0.229, 0.224, 0.225])\n",
    "])\n",
    "\n",
    "eval_transform = transforms.Compose([\n",
    "    transforms.Resize((256, 256)),\n",
    "    transforms.ToTensor(),\n",
    "    transforms.Normalize(mean=[0.485, 0.456, 0.406], std=[0.229, 0.224, 0.225])\n",
    "])\n"
   ],
   "id": "8fdaf2a0dfd5597d",
   "outputs": [],
   "execution_count": 12
  },
  {
   "metadata": {
    "ExecuteTime": {
     "end_time": "2025-07-04T16:30:40.754643Z",
     "start_time": "2025-07-04T16:30:40.727365Z"
    }
   },
   "cell_type": "code",
   "source": [
    "import torch\n",
    "import torch.nn as nn\n",
    "from torchvision.models import resnet18\n",
    "\n",
    "class PatchResnetLayer1(nn.Module):\n",
    "    def __init__(self):\n",
    "        super(PatchResnetLayer1, self).__init__()\n",
    "\n",
    "        # Load ResNet-18 backbone\n",
    "        resnet = resnet18(pretrained=True)\n",
    "\n",
    "        # Optionally freeze ResNet layers\n",
    "        for param in resnet.parameters():\n",
    "            param.requires_grad = False\n",
    "\n",
    "        # Patch ResNet initial layers + layer1\n",
    "        self.resnet_stem = nn.Sequential(\n",
    "            resnet.conv1,    # [B, 64, H/2, W/2]\n",
    "            resnet.bn1,\n",
    "            resnet.relu,\n",
    "            resnet.maxpool,  # [B, 64, H/4, W/4]\n",
    "            resnet.layer1    # [B, 64, H/4, W/4]\n",
    "        )\n",
    "\n",
    "        # Remaining custom conv layers\n",
    "        self.conv3 = nn.Sequential(\n",
    "            nn.Conv2d(64, 16, kernel_size=5, padding=2),\n",
    "            nn.BatchNorm2d(16),\n",
    "            nn.ReLU(),\n",
    "            nn.MaxPool2d(2, 2)  # [B, 16, H/8, W/8]\n",
    "        )\n",
    "        self.conv4 = nn.Sequential(\n",
    "            nn.Conv2d(16, 16, kernel_size=5, padding=2),\n",
    "            nn.BatchNorm2d(16),\n",
    "            nn.ReLU(),\n",
    "            nn.MaxPool2d(4, 4)  # [B, 16, H/32, W/32]\n",
    "        )\n",
    "\n",
    "        # Fully connected classifier\n",
    "        self.fc = nn.Sequential(\n",
    "            nn.Flatten(),                # [B, 16*8*8] if input is 256x256\n",
    "            nn.Linear(16 * 8 * 8, 16),\n",
    "            nn.ReLU(),\n",
    "            nn.Linear(16, 1),\n",
    "            nn.Sigmoid()\n",
    "        )\n",
    "\n",
    "    def forward(self, x):\n",
    "        x = self.resnet_stem(x)  # ResNet initial block and layer1\n",
    "        x = self.conv3(x)\n",
    "        x = self.conv4(x)\n",
    "        x = self.fc(x)\n",
    "        return x.squeeze(1)\n"
   ],
   "id": "f1952c42681a9600",
   "outputs": [],
   "execution_count": 13
  },
  {
   "metadata": {
    "ExecuteTime": {
     "end_time": "2025-07-04T16:30:41.586193Z",
     "start_time": "2025-07-04T16:30:41.558171Z"
    }
   },
   "cell_type": "code",
   "source": [
    "def train_model(dataset, name):\n",
    "    device = torch.device(\"cuda\" if torch.cuda.is_available() else \"cpu\")\n",
    "    model = PatchResnetLayer1().to(device)\n",
    "    optimizer = torch.optim.Adam(model.parameters(), lr=0.0001)\n",
    "    criterion = nn.BCELoss()\n",
    "\n",
    "    dataset_size = len(dataset)\n",
    "    train_size = int(0.6 * dataset_size)\n",
    "    val_size = int(0.2 * dataset_size)\n",
    "    test_size = dataset_size - train_size - val_size\n",
    "\n",
    "    train_dataset, val_dataset, test_dataset = torch.utils.data.random_split(\n",
    "        dataset, [train_size, val_size, test_size],\n",
    "        generator=torch.Generator().manual_seed(42)\n",
    "    )\n",
    "\n",
    "    train_dataset.dataset.transform = train_transform\n",
    "    val_dataset.dataset.transform = eval_transform\n",
    "    test_dataset.dataset.transform = eval_transform\n",
    "\n",
    "    train_loader = DataLoader(train_dataset, batch_size=75, shuffle=True)\n",
    "    test_loader = DataLoader(test_dataset, batch_size=75, shuffle=False)\n",
    "\n",
    "    def train_epoch():\n",
    "        model.train()\n",
    "        total_loss = 0\n",
    "        for images, labels in tqdm(train_loader):\n",
    "            images, labels = images.to(device), labels.float().to(device)\n",
    "            preds = model(images)\n",
    "            loss = criterion(preds, labels)\n",
    "            optimizer.zero_grad()\n",
    "            loss.backward()\n",
    "            optimizer.step()\n",
    "            total_loss += loss.item() * images.size(0)\n",
    "        return total_loss / len(train_loader.dataset)\n",
    "\n",
    "    for epoch in range(5):\n",
    "        loss = train_epoch()\n",
    "        print(f\"Epoch {epoch+1}: Loss = {loss:.4f}\")\n",
    "\n",
    "    os.makedirs(f\"saved_models/{name}\", exist_ok=True)\n",
    "    torch.save(model.state_dict(), f\"saved_models/{name}/model.pth\")\n",
    "    return model, test_loader\n"
   ],
   "id": "ce7a9c03fac7ef69",
   "outputs": [],
   "execution_count": 14
  },
  {
   "metadata": {
    "ExecuteTime": {
     "end_time": "2025-07-04T16:30:42.553743Z",
     "start_time": "2025-07-04T16:30:42.531746Z"
    }
   },
   "cell_type": "code",
   "source": [
    "import torch\n",
    "\n",
    "if torch.cuda.is_available():\n",
    "    print(\"✅ GPU is available:\", torch.cuda.get_device_name(0))\n",
    "else:\n",
    "    print(\"❌ GPU is not available. Using CPU.\")"
   ],
   "id": "b0a8496c00c1a7e1",
   "outputs": [
    {
     "name": "stdout",
     "output_type": "stream",
     "text": [
      "✅ GPU is available: NVIDIA GeForce RTX 3080 Ti Laptop GPU\n"
     ]
    }
   ],
   "execution_count": 15
  },
  {
   "metadata": {
    "ExecuteTime": {
     "end_time": "2025-07-04T16:30:43.144466Z",
     "start_time": "2025-07-04T16:30:43.133562Z"
    }
   },
   "cell_type": "code",
   "source": [
    "def evaluate_model(model, test_loader):\n",
    "    model.eval()\n",
    "    all_labels = []\n",
    "    all_preds = []\n",
    "    device = torch.device(\"cuda\" if torch.cuda.is_available() else \"cpu\")\n",
    "\n",
    "    with torch.no_grad():\n",
    "        for images, labels in test_loader:\n",
    "            images = images.to(device)\n",
    "            preds = model(images)\n",
    "            all_preds.extend(preds.cpu().numpy())\n",
    "            all_labels.extend(labels.numpy())\n",
    "\n",
    "    auc = roc_auc_score(all_labels, all_preds)\n",
    "    print(f\"Test AUC: {auc:.4f}\")\n",
    "\n",
    "    fpr, tpr, _ = roc_curve(all_labels, all_preds)\n",
    "    plt.figure(figsize=(6, 4))\n",
    "    plt.plot(fpr, tpr, label=f'Test AUC = {auc:.4f}')\n",
    "    plt.plot([0, 1], [0, 1], 'k--')\n",
    "    plt.xlabel('False Positive Rate')\n",
    "    plt.ylabel('True Positive Rate')\n",
    "    plt.title('ROC Curve on Test Set')\n",
    "    plt.legend()\n",
    "    plt.grid(True)\n",
    "    plt.show()"
   ],
   "id": "80adc75ca3a9410",
   "outputs": [],
   "execution_count": 16
  },
  {
   "metadata": {
    "ExecuteTime": {
     "end_time": "2025-07-04T16:31:50.312356Z",
     "start_time": "2025-07-04T16:30:44.103932Z"
    }
   },
   "cell_type": "code",
   "source": [
    "data = UADFVFrameDataset(\"E:/PythonProject/UADFV\")\n",
    "model, test_loader = train_model(data, \"UADFV\")"
   ],
   "id": "d53e67cc523ac03d",
   "outputs": [
    {
     "name": "stderr",
     "output_type": "stream",
     "text": [
      "100%|██████████| 25/25 [00:15<00:00,  1.59it/s]\n"
     ]
    },
    {
     "name": "stdout",
     "output_type": "stream",
     "text": [
      "Epoch 1: Loss = 0.6666\n"
     ]
    },
    {
     "name": "stderr",
     "output_type": "stream",
     "text": [
      "100%|██████████| 25/25 [00:12<00:00,  2.01it/s]\n"
     ]
    },
    {
     "name": "stdout",
     "output_type": "stream",
     "text": [
      "Epoch 2: Loss = 0.5265\n"
     ]
    },
    {
     "name": "stderr",
     "output_type": "stream",
     "text": [
      "100%|██████████| 25/25 [00:12<00:00,  1.95it/s]\n"
     ]
    },
    {
     "name": "stdout",
     "output_type": "stream",
     "text": [
      "Epoch 3: Loss = 0.3401\n"
     ]
    },
    {
     "name": "stderr",
     "output_type": "stream",
     "text": [
      "100%|██████████| 25/25 [00:12<00:00,  1.99it/s]\n"
     ]
    },
    {
     "name": "stdout",
     "output_type": "stream",
     "text": [
      "Epoch 4: Loss = 0.2049\n"
     ]
    },
    {
     "name": "stderr",
     "output_type": "stream",
     "text": [
      "100%|██████████| 25/25 [00:12<00:00,  2.04it/s]"
     ]
    },
    {
     "name": "stdout",
     "output_type": "stream",
     "text": [
      "Epoch 5: Loss = 0.1365\n"
     ]
    },
    {
     "name": "stderr",
     "output_type": "stream",
     "text": [
      "\n"
     ]
    }
   ],
   "execution_count": 17
  },
  {
   "metadata": {
    "ExecuteTime": {
     "end_time": "2025-07-04T16:39:28.617227Z",
     "start_time": "2025-07-04T16:39:17.572169Z"
    }
   },
   "cell_type": "code",
   "source": "evaluate_model(model,test_loader)",
   "id": "eb2f5c871dcdd23c",
   "outputs": [
    {
     "name": "stdout",
     "output_type": "stream",
     "text": [
      "Test AUC: 0.5046\n"
     ]
    },
    {
     "data": {
      "text/plain": [
       "<Figure size 600x400 with 1 Axes>"
      ],
      "image/png": "[encoded data removed]"
     },
     "metadata": {},
     "output_type": "display_data"
    }
   ],
   "execution_count": 20
  },
  {
   "metadata": {
    "ExecuteTime": {
     "end_time": "2025-07-04T16:43:04.568110Z",
     "start_time": "2025-07-04T16:39:28.665367Z"
    }
   },
   "cell_type": "code",
   "source": [
    "data = FaceForensicsDataset(\n",
    "    root_dir=\"E:/PythonProject/FaceForensics++\",\n",
    "    method='Deepfakes',\n",
    "    compression='c40'\n",
    ")\n",
    "print(\"Loaded\", len(data), \"images\")\n",
    "model, test_loader = train_model(data, \"FFPP_Deepfakes_c40\")\n"
   ],
   "id": "b74dde7141ecaa35",
   "outputs": [
    {
     "name": "stdout",
     "output_type": "stream",
     "text": [
      "Loaded 1752 images\n"
     ]
    },
    {
     "name": "stderr",
     "output_type": "stream",
     "text": [
      "E:\\PythonProject\\.venv\\lib\\site-packages\\torchvision\\models\\_utils.py:208: UserWarning: The parameter 'pretrained' is deprecated since 0.13 and may be removed in the future, please use 'weights' instead.\n",
      "  warnings.warn(\n",
      "E:\\PythonProject\\.venv\\lib\\site-packages\\torchvision\\models\\_utils.py:223: UserWarning: Arguments other than a weight enum or `None` for 'weights' are deprecated since 0.13 and may be removed in the future. The current behavior is equivalent to passing `weights=ResNet18_Weights.IMAGENET1K_V1`. You can also use `weights=ResNet18_Weights.DEFAULT` to get the most up-to-date weights.\n",
      "  warnings.warn(msg)\n",
      "100%|██████████| 15/15 [00:40<00:00,  2.68s/it]\n"
     ]
    },
    {
     "name": "stdout",
     "output_type": "stream",
     "text": [
      "Epoch 1: Loss = 0.7008\n"
     ]
    },
    {
     "name": "stderr",
     "output_type": "stream",
     "text": [
      "100%|██████████| 15/15 [00:45<00:00,  3.02s/it]\n"
     ]
    },
    {
     "name": "stdout",
     "output_type": "stream",
     "text": [
      "Epoch 2: Loss = 0.6900\n"
     ]
    },
    {
     "name": "stderr",
     "output_type": "stream",
     "text": [
      "100%|██████████| 15/15 [00:43<00:00,  2.91s/it]\n"
     ]
    },
    {
     "name": "stdout",
     "output_type": "stream",
     "text": [
      "Epoch 3: Loss = 0.6854\n"
     ]
    },
    {
     "name": "stderr",
     "output_type": "stream",
     "text": [
      "100%|██████████| 15/15 [00:43<00:00,  2.93s/it]\n"
     ]
    },
    {
     "name": "stdout",
     "output_type": "stream",
     "text": [
      "Epoch 4: Loss = 0.6825\n"
     ]
    },
    {
     "name": "stderr",
     "output_type": "stream",
     "text": [
      "100%|██████████| 15/15 [00:42<00:00,  2.83s/it]"
     ]
    },
    {
     "name": "stdout",
     "output_type": "stream",
     "text": [
      "Epoch 5: Loss = 0.6796\n"
     ]
    },
    {
     "name": "stderr",
     "output_type": "stream",
     "text": [
      "\n"
     ]
    }
   ],
   "execution_count": 21
  },
  {
   "metadata": {
    "ExecuteTime": {
     "end_time": "2025-07-04T16:43:21.282896Z",
     "start_time": "2025-07-04T16:43:04.689581Z"
    }
   },
   "cell_type": "code",
   "source": "evaluate_model(model,test_loader)",
   "id": "e89f834a7e628aa0",
   "outputs": [
    {
     "name": "stdout",
     "output_type": "stream",
     "text": [
      "Test AUC: 0.5286\n"
     ]
    },
    {
     "data": {
      "text/plain": [
       "<Figure size 600x400 with 1 Axes>"
      ],
      "image/png": "[encoded data removed]"
     },
     "metadata": {},
     "output_type": "display_data"
    }
   ],
   "execution_count": 22
  },
  {
   "metadata": {
    "ExecuteTime": {
     "end_time": "2025-07-04T16:46:11.437987Z",
     "start_time": "2025-07-04T16:43:21.324570Z"
    }
   },
   "cell_type": "code",
   "source": [
    "data = FaceForensicsDataset(\n",
    "    root_dir=\"E:/PythonProject/FaceForensics++\",\n",
    "    method='Face2Face',\n",
    "    compression='c40'\n",
    ")\n",
    "print(\"Loaded\", len(data), \"images\")\n",
    "model, test_loader = train_model(data, \"FFPP_Face2Face_c40\")"
   ],
   "id": "3dea6fd2d1c5dd89",
   "outputs": [
    {
     "name": "stdout",
     "output_type": "stream",
     "text": [
      "Loaded 1807 images\n"
     ]
    },
    {
     "name": "stderr",
     "output_type": "stream",
     "text": [
      "E:\\PythonProject\\.venv\\lib\\site-packages\\torchvision\\models\\_utils.py:208: UserWarning: The parameter 'pretrained' is deprecated since 0.13 and may be removed in the future, please use 'weights' instead.\n",
      "  warnings.warn(\n",
      "E:\\PythonProject\\.venv\\lib\\site-packages\\torchvision\\models\\_utils.py:223: UserWarning: Arguments other than a weight enum or `None` for 'weights' are deprecated since 0.13 and may be removed in the future. The current behavior is equivalent to passing `weights=ResNet18_Weights.IMAGENET1K_V1`. You can also use `weights=ResNet18_Weights.DEFAULT` to get the most up-to-date weights.\n",
      "  warnings.warn(msg)\n",
      "100%|██████████| 15/15 [00:45<00:00,  3.02s/it]\n"
     ]
    },
    {
     "name": "stdout",
     "output_type": "stream",
     "text": [
      "Epoch 1: Loss = 0.6870\n"
     ]
    },
    {
     "name": "stderr",
     "output_type": "stream",
     "text": [
      "100%|██████████| 15/15 [00:32<00:00,  2.14s/it]\n"
     ]
    },
    {
     "name": "stdout",
     "output_type": "stream",
     "text": [
      "Epoch 2: Loss = 0.6623\n"
     ]
    },
    {
     "name": "stderr",
     "output_type": "stream",
     "text": [
      "100%|██████████| 15/15 [00:30<00:00,  2.02s/it]\n"
     ]
    },
    {
     "name": "stdout",
     "output_type": "stream",
     "text": [
      "Epoch 3: Loss = 0.6435\n"
     ]
    },
    {
     "name": "stderr",
     "output_type": "stream",
     "text": [
      "100%|██████████| 15/15 [00:30<00:00,  2.04s/it]\n"
     ]
    },
    {
     "name": "stdout",
     "output_type": "stream",
     "text": [
      "Epoch 4: Loss = 0.6274\n"
     ]
    },
    {
     "name": "stderr",
     "output_type": "stream",
     "text": [
      "100%|██████████| 15/15 [00:30<00:00,  2.05s/it]"
     ]
    },
    {
     "name": "stdout",
     "output_type": "stream",
     "text": [
      "Epoch 5: Loss = 0.6104\n"
     ]
    },
    {
     "name": "stderr",
     "output_type": "stream",
     "text": [
      "\n"
     ]
    }
   ],
   "execution_count": 23
  },
  {
   "metadata": {
    "ExecuteTime": {
     "end_time": "2025-07-04T16:46:22.891613Z",
     "start_time": "2025-07-04T16:46:11.558954Z"
    }
   },
   "cell_type": "code",
   "source": "evaluate_model(model,test_loader)",
   "id": "339825c7b7a6b4ff",
   "outputs": [
    {
     "name": "stdout",
     "output_type": "stream",
     "text": [
      "Test AUC: 0.6138\n"
     ]
    },
    {
     "data": {
      "text/plain": [
       "<Figure size 600x400 with 1 Axes>"
      ],
      "image/png": "[encoded data removed]"
     },
     "metadata": {},
     "output_type": "display_data"
    }
   ],
   "execution_count": 24
  },
  {
   "metadata": {
    "ExecuteTime": {
     "end_time": "2025-07-04T16:49:38.943249Z",
     "start_time": "2025-07-04T16:46:22.955189Z"
    }
   },
   "cell_type": "code",
   "source": [
    "data = FaceForensicsDataset(\n",
    "    root_dir=\"E:/PythonProject/FaceForensics++\",\n",
    "    method='FaceShifter',\n",
    "    compression='c40'\n",
    ")\n",
    "print(\"Loaded\", len(data), \"images\")\n",
    "model, test_loader = train_model(data, \"FFPP_FaceShifter_c40\")"
   ],
   "id": "807e3ad0588bb26d",
   "outputs": [
    {
     "name": "stdout",
     "output_type": "stream",
     "text": [
      "Loaded 1758 images\n"
     ]
    },
    {
     "name": "stderr",
     "output_type": "stream",
     "text": [
      "E:\\PythonProject\\.venv\\lib\\site-packages\\torchvision\\models\\_utils.py:208: UserWarning: The parameter 'pretrained' is deprecated since 0.13 and may be removed in the future, please use 'weights' instead.\n",
      "  warnings.warn(\n",
      "E:\\PythonProject\\.venv\\lib\\site-packages\\torchvision\\models\\_utils.py:223: UserWarning: Arguments other than a weight enum or `None` for 'weights' are deprecated since 0.13 and may be removed in the future. The current behavior is equivalent to passing `weights=ResNet18_Weights.IMAGENET1K_V1`. You can also use `weights=ResNet18_Weights.DEFAULT` to get the most up-to-date weights.\n",
      "  warnings.warn(msg)\n",
      "100%|██████████| 15/15 [00:36<00:00,  2.42s/it]\n"
     ]
    },
    {
     "name": "stdout",
     "output_type": "stream",
     "text": [
      "Epoch 1: Loss = 0.6972\n"
     ]
    },
    {
     "name": "stderr",
     "output_type": "stream",
     "text": [
      "100%|██████████| 15/15 [00:43<00:00,  2.90s/it]\n"
     ]
    },
    {
     "name": "stdout",
     "output_type": "stream",
     "text": [
      "Epoch 2: Loss = 0.6831\n"
     ]
    },
    {
     "name": "stderr",
     "output_type": "stream",
     "text": [
      "100%|██████████| 15/15 [00:34<00:00,  2.28s/it]\n"
     ]
    },
    {
     "name": "stdout",
     "output_type": "stream",
     "text": [
      "Epoch 3: Loss = 0.6752\n"
     ]
    },
    {
     "name": "stderr",
     "output_type": "stream",
     "text": [
      "100%|██████████| 15/15 [00:43<00:00,  2.90s/it]\n"
     ]
    },
    {
     "name": "stdout",
     "output_type": "stream",
     "text": [
      "Epoch 4: Loss = 0.6709\n"
     ]
    },
    {
     "name": "stderr",
     "output_type": "stream",
     "text": [
      "100%|██████████| 15/15 [00:38<00:00,  2.54s/it]"
     ]
    },
    {
     "name": "stdout",
     "output_type": "stream",
     "text": [
      "Epoch 5: Loss = 0.6730\n"
     ]
    },
    {
     "name": "stderr",
     "output_type": "stream",
     "text": [
      "\n"
     ]
    }
   ],
   "execution_count": 25
  },
  {
   "metadata": {
    "ExecuteTime": {
     "end_time": "2025-07-04T16:49:51.689161Z",
     "start_time": "2025-07-04T16:49:39.044404Z"
    }
   },
   "cell_type": "code",
   "source": "evaluate_model(model,test_loader)",
   "id": "6912f613acb80ad8",
   "outputs": [
    {
     "name": "stdout",
     "output_type": "stream",
     "text": [
      "Test AUC: 0.4981\n"
     ]
    },
    {
     "data": {
      "text/plain": [
       "<Figure size 600x400 with 1 Axes>"
      ],
      "image/png": "[encoded data removed]"
     },
     "metadata": {},
     "output_type": "display_data"
    }
   ],
   "execution_count": 26
  },
  {
   "metadata": {
    "ExecuteTime": {
     "end_time": "2025-07-04T16:53:24.714769Z",
     "start_time": "2025-07-04T16:49:51.714097Z"
    }
   },
   "cell_type": "code",
   "source": [
    "data = FaceForensicsDataset(\n",
    "    root_dir=\"E:/PythonProject/FaceForensics++\",\n",
    "    method='FaceSwap',\n",
    "    compression='c40'\n",
    ")\n",
    "print(\"Loaded\", len(data), \"images\")\n",
    "model, test_loader = train_model(data, \"FFPP_FaceShifter_c40\")"
   ],
   "id": "57556fd7b9a095bc",
   "outputs": [
    {
     "name": "stdout",
     "output_type": "stream",
     "text": [
      "Loaded 1601 images\n"
     ]
    },
    {
     "name": "stderr",
     "output_type": "stream",
     "text": [
      "E:\\PythonProject\\.venv\\lib\\site-packages\\torchvision\\models\\_utils.py:208: UserWarning: The parameter 'pretrained' is deprecated since 0.13 and may be removed in the future, please use 'weights' instead.\n",
      "  warnings.warn(\n",
      "E:\\PythonProject\\.venv\\lib\\site-packages\\torchvision\\models\\_utils.py:223: UserWarning: Arguments other than a weight enum or `None` for 'weights' are deprecated since 0.13 and may be removed in the future. The current behavior is equivalent to passing `weights=ResNet18_Weights.IMAGENET1K_V1`. You can also use `weights=ResNet18_Weights.DEFAULT` to get the most up-to-date weights.\n",
      "  warnings.warn(msg)\n",
      "100%|██████████| 13/13 [00:39<00:00,  3.05s/it]\n"
     ]
    },
    {
     "name": "stdout",
     "output_type": "stream",
     "text": [
      "Epoch 1: Loss = 0.6898\n"
     ]
    },
    {
     "name": "stderr",
     "output_type": "stream",
     "text": [
      "100%|██████████| 13/13 [00:42<00:00,  3.29s/it]\n"
     ]
    },
    {
     "name": "stdout",
     "output_type": "stream",
     "text": [
      "Epoch 2: Loss = 0.6727\n"
     ]
    },
    {
     "name": "stderr",
     "output_type": "stream",
     "text": [
      "100%|██████████| 13/13 [00:44<00:00,  3.40s/it]\n"
     ]
    },
    {
     "name": "stdout",
     "output_type": "stream",
     "text": [
      "Epoch 3: Loss = 0.6610\n"
     ]
    },
    {
     "name": "stderr",
     "output_type": "stream",
     "text": [
      "100%|██████████| 13/13 [00:42<00:00,  3.30s/it]\n"
     ]
    },
    {
     "name": "stdout",
     "output_type": "stream",
     "text": [
      "Epoch 4: Loss = 0.6509\n"
     ]
    },
    {
     "name": "stderr",
     "output_type": "stream",
     "text": [
      "100%|██████████| 13/13 [00:42<00:00,  3.31s/it]"
     ]
    },
    {
     "name": "stdout",
     "output_type": "stream",
     "text": [
      "Epoch 5: Loss = 0.6412\n"
     ]
    },
    {
     "name": "stderr",
     "output_type": "stream",
     "text": [
      "\n"
     ]
    }
   ],
   "execution_count": 27
  },
  {
   "metadata": {
    "ExecuteTime": {
     "end_time": "2025-07-04T16:53:39.138710Z",
     "start_time": "2025-07-04T16:53:24.887526Z"
    }
   },
   "cell_type": "code",
   "source": "evaluate_model(model,test_loader)",
   "id": "c3b148c750b1d55d",
   "outputs": [
    {
     "name": "stdout",
     "output_type": "stream",
     "text": [
      "Test AUC: 0.5721\n"
     ]
    },
    {
     "data": {
      "text/plain": [
       "<Figure size 600x400 with 1 Axes>"
      ],
      "image/png": "[encoded data removed]"
     },
     "metadata": {},
     "output_type": "display_data"
    }
   ],
   "execution_count": 28
  },
  {
   "metadata": {},
   "cell_type": "code",
   "outputs": [],
   "execution_count": null,
   "source": "",
   "id": "1514d95dad309e7c"
  }
 ],
 "metadata": {
  "kernelspec": {
   "display_name": "Python 3",
   "language": "python",
   "name": "python3"
  },
  "language_info": {
   "codemirror_mode": {
    "name": "ipython",
    "version": 2
   },
   "file_extension": ".py",
   "mimetype": "text/x-python",
   "name": "python",
   "nbconvert_exporter": "python",
   "pygments_lexer": "ipython2",
   "version": "2.7.6"
  }
 },
 "nbformat": 4,
 "nbformat_minor": 5
}
