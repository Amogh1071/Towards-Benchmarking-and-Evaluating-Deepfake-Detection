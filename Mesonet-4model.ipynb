{
 "cells": [
  {
   "cell_type": "code",
   "id": "initial_id",
   "metadata": {
    "collapsed": true,
    "ExecuteTime": {
     "end_time": "2025-07-04T15:59:22.895544Z",
     "start_time": "2025-07-04T15:59:19.229904Z"
    }
   },
   "source": [
    "# Cell 1: Imports\n",
    "import os\n",
    "import glob\n",
    "from PIL import Image\n",
    "import torch\n",
    "import torch.nn as nn\n",
    "import torchvision.transforms as transforms\n",
    "from torch.utils.data import Dataset, DataLoader\n",
    "from sklearn.metrics import roc_auc_score, roc_curve\n",
    "import matplotlib.pyplot as plt\n",
    "import numpy as np\n",
    "from tqdm import tqdm\n",
    "import timm  # Pretrained models including EfficientNet\n",
    "import glob\n"
   ],
   "outputs": [
    {
     "name": "stderr",
     "output_type": "stream",
     "text": [
      "E:\\PythonProject\\.venv\\lib\\site-packages\\tqdm\\auto.py:21: TqdmWarning: IProgress not found. Please update jupyter and ipywidgets. See https://ipywidgets.readthedocs.io/en/stable/user_install.html\n",
      "  from .autonotebook import tqdm as notebook_tqdm\n"
     ]
    }
   ],
   "execution_count": 1
  },
  {
   "metadata": {
    "ExecuteTime": {
     "end_time": "2025-07-04T15:59:22.913190Z",
     "start_time": "2025-07-04T15:59:22.895544Z"
    }
   },
   "cell_type": "code",
   "source": [
    "class UADFVFrameDataset(Dataset):\n",
    "    def __init__(self, root_dir, transform=None):\n",
    "        self.samples = []\n",
    "        self.transform = transform\n",
    "\n",
    "        for label, class_name in enumerate(['real', 'fake']):\n",
    "            class_path = os.path.join(root_dir, class_name, 'frames')\n",
    "            video_folders = glob.glob(os.path.join(class_path, '*'))\n",
    "\n",
    "            for folder in video_folders:\n",
    "                for img_path in glob.glob(os.path.join(folder, '*.png')):\n",
    "                    self.samples.append((img_path, label))\n",
    "\n",
    "    def __len__(self):\n",
    "        return len(self.samples)\n",
    "\n",
    "    def __getitem__(self, idx):\n",
    "        img_path, label = self.samples[idx]\n",
    "        img = Image.open(img_path).convert('RGB')\n",
    "        if self.transform:\n",
    "            img = self.transform(img)\n",
    "        return img, label"
   ],
   "id": "b154c2f295dbf164",
   "outputs": [],
   "execution_count": 2
  },
  {
   "metadata": {
    "ExecuteTime": {
     "end_time": "2025-07-04T15:59:23.088617Z",
     "start_time": "2025-07-04T15:59:23.072498Z"
    }
   },
   "cell_type": "code",
   "source": [
    "class DFTIMITFrameDataset(Dataset):\n",
    "    def __init__(self, root_dir, transform=None):\n",
    "        self.samples = []\n",
    "        self.transform = transform\n",
    "\n",
    "        for label, class_name in enumerate(['real', 'fake']):\n",
    "            class_path = os.path.join(root_dir, class_name)\n",
    "            video_folders = glob.glob(os.path.join(class_path, '*'))\n",
    "\n",
    "            for folder in video_folders:\n",
    "                for img_path in glob.glob(os.path.join(folder, '*.png')):\n",
    "                    self.samples.append((img_path, label))\n",
    "\n",
    "    def __len__(self):\n",
    "        return len(self.samples)\n",
    "\n",
    "    def __getitem__(self, idx):\n",
    "        img_path, label = self.samples[idx]\n",
    "        img = Image.open(img_path).convert('RGB')\n",
    "        if self.transform:\n",
    "            img = self.transform(img)\n",
    "        return img, label\n"
   ],
   "id": "c071a2ee2edf7a65",
   "outputs": [],
   "execution_count": 3
  },
  {
   "metadata": {
    "ExecuteTime": {
     "end_time": "2025-07-04T15:59:23.133333Z",
     "start_time": "2025-07-04T15:59:23.094299Z"
    }
   },
   "cell_type": "code",
   "source": [
    "import os\n",
    "import cv2\n",
    "import glob\n",
    "from tqdm import tqdm\n",
    "\n",
    "def extract_frames_from_videos(video_dir, output_dir, fps=1):\n",
    "    os.makedirs(output_dir, exist_ok=True)\n",
    "    video_files = glob.glob(os.path.join(video_dir, '*.mp4'))  # ✅ Correct usage\n",
    "\n",
    "    for video_path in tqdm(video_files, desc=\"Extracting frames\"):\n",
    "        video_name = os.path.splitext(os.path.basename(video_path))[0]\n",
    "        frame_output_dir = os.path.join(output_dir, video_name)\n",
    "        os.makedirs(frame_output_dir, exist_ok=True)\n",
    "\n",
    "        cap = cv2.VideoCapture(video_path)\n",
    "        frame_rate = cap.get(cv2.CAP_PROP_FPS)\n",
    "        frame_interval = int(frame_rate // fps) if fps < frame_rate else 1\n",
    "\n",
    "        frame_count = 0\n",
    "        saved_count = 0\n",
    "        while cap.isOpened():\n",
    "            ret, frame = cap.read()\n",
    "            if not ret:\n",
    "                break\n",
    "            if frame_count % frame_interval == 0:\n",
    "                out_path = os.path.join(frame_output_dir, f\"{saved_count:04d}.png\")\n",
    "                cv2.imwrite(out_path, frame)\n",
    "                saved_count += 1\n",
    "            frame_count += 1\n",
    "        cap.release()"
   ],
   "id": "2d7dae8c0002307c",
   "outputs": [],
   "execution_count": 4
  },
  {
   "metadata": {
    "ExecuteTime": {
     "end_time": "2025-07-03T05:03:11.629042Z",
     "start_time": "2025-07-03T04:58:06.935154Z"
    }
   },
   "cell_type": "code",
   "source": [
    "# Example for Deepfakes/c40\n",
    "extract_frames_from_videos(\n",
    "    video_dir='E:/PythonProject/FaceForensics++/manipulated_sequences/Deepfakes/c40/videos',\n",
    "    output_dir='E:/PythonProject/FaceForensics++/manipulated_sequences/Deepfakes/c40/frames',\n",
    "    fps=1\n",
    ")\n",
    "\n",
    "# Similarly extract real/original videos\n",
    "extract_frames_from_videos(\n",
    "    video_dir='E:/PythonProject/FaceForensics++/original_sequences/youtube/c40/videos',\n",
    "    output_dir='E:/PythonProject/FaceForensics++/original_sequences/youtube/c40/frames',\n",
    "    fps=1\n",
    ")\n"
   ],
   "id": "a782d3a3b1ce0d63",
   "outputs": [
    {
     "name": "stderr",
     "output_type": "stream",
     "text": [
      "Extracting frames: 100%|██████████| 50/50 [02:48<00:00,  3.37s/it]\n",
      "Extracting frames: 100%|██████████| 50/50 [02:16<00:00,  2.73s/it]\n"
     ]
    }
   ],
   "execution_count": 30
  },
  {
   "metadata": {
    "ExecuteTime": {
     "end_time": "2025-07-04T15:59:23.166338Z",
     "start_time": "2025-07-04T15:59:23.150562Z"
    }
   },
   "cell_type": "code",
   "source": [
    "class FaceForensicsDataset(Dataset):\n",
    "    def __init__(self, root_dir, method='Deepfakes', compression='c40', transform=None):\n",
    "        self.samples = []\n",
    "        self.transform = transform\n",
    "\n",
    "        # Real frames\n",
    "        real_path = os.path.join(root_dir, 'original_sequences', 'youtube', compression, 'frames')\n",
    "        real_video_dirs = glob.glob(os.path.join(real_path, '*'))\n",
    "        for folder in real_video_dirs:\n",
    "            for img_path in glob.glob(os.path.join(folder, '*.png')):\n",
    "                self.samples.append((img_path, 0))\n",
    "\n",
    "        # Fake frames\n",
    "        fake_path = os.path.join(root_dir, 'manipulated_sequences', method, compression, 'frames')\n",
    "        fake_video_dirs = glob.glob(os.path.join(fake_path, '*'))\n",
    "        for folder in fake_video_dirs:\n",
    "            for img_path in glob.glob(os.path.join(folder, '*.png')):\n",
    "                self.samples.append((img_path, 1))\n",
    "\n",
    "    def __len__(self):\n",
    "        return len(self.samples)\n",
    "\n",
    "    def __getitem__(self, idx):\n",
    "        img_path, label = self.samples[idx]\n",
    "        img = Image.open(img_path).convert('RGB')\n",
    "        if self.transform:\n",
    "            img = self.transform(img)\n",
    "        return img, label\n"
   ],
   "id": "a5d9e30e5d9f5fc",
   "outputs": [],
   "execution_count": 5
  },
  {
   "metadata": {
    "ExecuteTime": {
     "end_time": "2025-07-04T15:59:23.176780Z",
     "start_time": "2025-07-04T15:59:23.171265Z"
    }
   },
   "cell_type": "code",
   "source": [
    "train_transform = transforms.Compose([\n",
    "    transforms.Resize((256, 256)),\n",
    "    transforms.RandomHorizontalFlip(p=0.5),\n",
    "    transforms.ColorJitter(brightness=0.2, contrast=0.2, saturation=0.2, hue=0.1),\n",
    "    transforms.RandomRotation(10),\n",
    "    transforms.ToTensor(),\n",
    "    transforms.Normalize(mean=[0.485, 0.456, 0.406], std=[0.229, 0.224, 0.225])\n",
    "])\n",
    "\n",
    "eval_transform = transforms.Compose([\n",
    "    transforms.Resize((256, 256)),\n",
    "    transforms.ToTensor(),\n",
    "    transforms.Normalize(mean=[0.485, 0.456, 0.406], std=[0.229, 0.224, 0.225])\n",
    "])\n"
   ],
   "id": "8fdaf2a0dfd5597d",
   "outputs": [],
   "execution_count": 6
  },
  {
   "metadata": {
    "ExecuteTime": {
     "end_time": "2025-07-04T16:00:36.435649Z",
     "start_time": "2025-07-04T16:00:36.412419Z"
    }
   },
   "cell_type": "code",
   "source": [
    "import torch\n",
    "import torch.nn as nn\n",
    "import torch.nn.functional as F\n",
    "\n",
    "class MesoNet4(nn.Module):\n",
    "    def __init__(self):\n",
    "        super(MesoNet4, self).__init__()\n",
    "        self.conv1 = nn.Sequential(\n",
    "            nn.Conv2d(3, 8, kernel_size=3, padding=1),\n",
    "            nn.BatchNorm2d(8),\n",
    "            nn.ReLU(),\n",
    "            nn.MaxPool2d(2, 2)\n",
    "        )\n",
    "        self.conv2 = nn.Sequential(\n",
    "            nn.Conv2d(8, 8, kernel_size=5, padding=2),\n",
    "            nn.BatchNorm2d(8),\n",
    "            nn.ReLU(),\n",
    "            nn.MaxPool2d(2, 2)\n",
    "        )\n",
    "        self.conv3 = nn.Sequential(\n",
    "            nn.Conv2d(8, 16, kernel_size=5, padding=2),\n",
    "            nn.BatchNorm2d(16),\n",
    "            nn.ReLU(),\n",
    "            nn.MaxPool2d(2, 2)\n",
    "        )\n",
    "        self.conv4 = nn.Sequential(\n",
    "            nn.Conv2d(16, 16, kernel_size=5, padding=2),\n",
    "            nn.BatchNorm2d(16),\n",
    "            nn.ReLU(),\n",
    "            nn.MaxPool2d(4, 4)\n",
    "        )\n",
    "        self.fc = nn.Sequential(\n",
    "            nn.Flatten(),\n",
    "            nn.Linear(16 * 8 * 8, 16),\n",
    "            nn.ReLU(),\n",
    "            nn.Linear(16, 1),\n",
    "            nn.Sigmoid()\n",
    "        )\n",
    "\n",
    "    def forward(self, x):\n",
    "        x = self.conv1(x)  # [B, 8, H/2, W/2]\n",
    "        x = self.conv2(x)  # [B, 8, H/4, W/4]\n",
    "        x = self.conv3(x)  # [B, 16, H/8, W/8]\n",
    "        x = self.conv4(x)  # [B, 16, H/32, W/32]\n",
    "        x = self.fc(x)\n",
    "        return x.squeeze(1)\n"
   ],
   "id": "f1952c42681a9600",
   "outputs": [],
   "execution_count": 7
  },
  {
   "metadata": {
    "ExecuteTime": {
     "end_time": "2025-07-04T16:00:48.246531Z",
     "start_time": "2025-07-04T16:00:48.221845Z"
    }
   },
   "cell_type": "code",
   "source": [
    "def train_model(dataset, name):\n",
    "    device = torch.device(\"cuda\" if torch.cuda.is_available() else \"cpu\")\n",
    "    model = MesoNet4().to(device)\n",
    "    optimizer = torch.optim.Adam(model.parameters(), lr=0.0001)\n",
    "    criterion = nn.BCELoss()\n",
    "\n",
    "    dataset_size = len(dataset)\n",
    "    train_size = int(0.6 * dataset_size)\n",
    "    val_size = int(0.2 * dataset_size)\n",
    "    test_size = dataset_size - train_size - val_size\n",
    "\n",
    "    train_dataset, val_dataset, test_dataset = torch.utils.data.random_split(\n",
    "        dataset, [train_size, val_size, test_size],\n",
    "        generator=torch.Generator().manual_seed(42)\n",
    "    )\n",
    "\n",
    "    train_dataset.dataset.transform = train_transform\n",
    "    val_dataset.dataset.transform = eval_transform\n",
    "    test_dataset.dataset.transform = eval_transform\n",
    "\n",
    "    train_loader = DataLoader(train_dataset, batch_size=75, shuffle=True)\n",
    "    test_loader = DataLoader(test_dataset, batch_size=75, shuffle=False)\n",
    "\n",
    "    def train_epoch():\n",
    "        model.train()\n",
    "        total_loss = 0\n",
    "        for images, labels in tqdm(train_loader):\n",
    "            images, labels = images.to(device), labels.float().to(device)\n",
    "            preds = model(images)\n",
    "            loss = criterion(preds, labels)\n",
    "            optimizer.zero_grad()\n",
    "            loss.backward()\n",
    "            optimizer.step()\n",
    "            total_loss += loss.item() * images.size(0)\n",
    "        return total_loss / len(train_loader.dataset)\n",
    "\n",
    "    for epoch in range(5):\n",
    "        loss = train_epoch()\n",
    "        print(f\"Epoch {epoch+1}: Loss = {loss:.4f}\")\n",
    "\n",
    "    os.makedirs(f\"saved_models/{name}\", exist_ok=True)\n",
    "    torch.save(model.state_dict(), f\"saved_models/{name}/model.pth\")\n",
    "    return model, test_loader\n"
   ],
   "id": "ce7a9c03fac7ef69",
   "outputs": [],
   "execution_count": 8
  },
  {
   "metadata": {
    "ExecuteTime": {
     "end_time": "2025-07-04T16:00:49.691098Z",
     "start_time": "2025-07-04T16:00:49.661257Z"
    }
   },
   "cell_type": "code",
   "source": [
    "import torch\n",
    "\n",
    "if torch.cuda.is_available():\n",
    "    print(\"✅ GPU is available:\", torch.cuda.get_device_name(0))\n",
    "else:\n",
    "    print(\"❌ GPU is not available. Using CPU.\")"
   ],
   "id": "b0a8496c00c1a7e1",
   "outputs": [
    {
     "name": "stdout",
     "output_type": "stream",
     "text": [
      "✅ GPU is available: NVIDIA GeForce RTX 3080 Ti Laptop GPU\n"
     ]
    }
   ],
   "execution_count": 9
  },
  {
   "metadata": {
    "ExecuteTime": {
     "end_time": "2025-07-04T16:00:51.599749Z",
     "start_time": "2025-07-04T16:00:51.586186Z"
    }
   },
   "cell_type": "code",
   "source": [
    "def evaluate_model(model, test_loader):\n",
    "    model.eval()\n",
    "    all_labels = []\n",
    "    all_preds = []\n",
    "    device = torch.device(\"cuda\" if torch.cuda.is_available() else \"cpu\")\n",
    "\n",
    "    with torch.no_grad():\n",
    "        for images, labels in test_loader:\n",
    "            images = images.to(device)\n",
    "            preds = model(images)\n",
    "            all_preds.extend(preds.cpu().numpy())\n",
    "            all_labels.extend(labels.numpy())\n",
    "\n",
    "    auc = roc_auc_score(all_labels, all_preds)\n",
    "    print(f\"Test AUC: {auc:.4f}\")\n",
    "\n",
    "    fpr, tpr, _ = roc_curve(all_labels, all_preds)\n",
    "    plt.figure(figsize=(6, 4))\n",
    "    plt.plot(fpr, tpr, label=f'Test AUC = {auc:.4f}')\n",
    "    plt.plot([0, 1], [0, 1], 'k--')\n",
    "    plt.xlabel('False Positive Rate')\n",
    "    plt.ylabel('True Positive Rate')\n",
    "    plt.title('ROC Curve on Test Set')\n",
    "    plt.legend()\n",
    "    plt.grid(True)\n",
    "    plt.show()"
   ],
   "id": "80adc75ca3a9410",
   "outputs": [],
   "execution_count": 10
  },
  {
   "metadata": {
    "ExecuteTime": {
     "end_time": "2025-07-04T16:01:37.001970Z",
     "start_time": "2025-07-04T16:00:57.922200Z"
    }
   },
   "cell_type": "code",
   "source": [
    "data = UADFVFrameDataset(\"E:/PythonProject/UADFV\")\n",
    "model, test_loader = train_model(data, \"UADFV\")"
   ],
   "id": "d53e67cc523ac03d",
   "outputs": [
    {
     "name": "stderr",
     "output_type": "stream",
     "text": [
      "100%|██████████| 25/25 [00:08<00:00,  3.05it/s]\n"
     ]
    },
    {
     "name": "stdout",
     "output_type": "stream",
     "text": [
      "Epoch 1: Loss = 0.6896\n"
     ]
    },
    {
     "name": "stderr",
     "output_type": "stream",
     "text": [
      "100%|██████████| 25/25 [00:07<00:00,  3.44it/s]\n"
     ]
    },
    {
     "name": "stdout",
     "output_type": "stream",
     "text": [
      "Epoch 2: Loss = 0.6466\n"
     ]
    },
    {
     "name": "stderr",
     "output_type": "stream",
     "text": [
      "100%|██████████| 25/25 [00:07<00:00,  3.47it/s]\n"
     ]
    },
    {
     "name": "stdout",
     "output_type": "stream",
     "text": [
      "Epoch 3: Loss = 0.5617\n"
     ]
    },
    {
     "name": "stderr",
     "output_type": "stream",
     "text": [
      "100%|██████████| 25/25 [00:07<00:00,  3.51it/s]\n"
     ]
    },
    {
     "name": "stdout",
     "output_type": "stream",
     "text": [
      "Epoch 4: Loss = 0.4551\n"
     ]
    },
    {
     "name": "stderr",
     "output_type": "stream",
     "text": [
      "100%|██████████| 25/25 [00:08<00:00,  2.79it/s]"
     ]
    },
    {
     "name": "stdout",
     "output_type": "stream",
     "text": [
      "Epoch 5: Loss = 0.3662\n"
     ]
    },
    {
     "name": "stderr",
     "output_type": "stream",
     "text": [
      "\n"
     ]
    }
   ],
   "execution_count": 11
  },
  {
   "metadata": {
    "ExecuteTime": {
     "end_time": "2025-07-04T16:01:40.580620Z",
     "start_time": "2025-07-04T16:01:37.010072Z"
    }
   },
   "cell_type": "code",
   "source": "evaluate_model(model,test_loader)",
   "id": "eb2f5c871dcdd23c",
   "outputs": [
    {
     "name": "stdout",
     "output_type": "stream",
     "text": [
      "Test AUC: 0.9759\n"
     ]
    },
    {
     "data": {
      "text/plain": [
       "<Figure size 600x400 with 1 Axes>"
      ],
      "image/png": "[encoded data removed]"
     },
     "metadata": {},
     "output_type": "display_data"
    }
   ],
   "execution_count": 12
  },
  {
   "metadata": {
    "ExecuteTime": {
     "end_time": "2025-07-04T16:03:02.722666Z",
     "start_time": "2025-07-04T16:01:40.596738Z"
    }
   },
   "cell_type": "code",
   "source": [
    "data = FaceForensicsDataset(\n",
    "    root_dir=\"E:/PythonProject/FaceForensics++\",\n",
    "    method='Deepfakes',\n",
    "    compression='c40'\n",
    ")\n",
    "print(\"Loaded\", len(data), \"images\")\n",
    "model, test_loader = train_model(data, \"FFPP_Deepfakes_c40\")\n"
   ],
   "id": "b74dde7141ecaa35",
   "outputs": [
    {
     "name": "stdout",
     "output_type": "stream",
     "text": [
      "Loaded 1752 images\n"
     ]
    },
    {
     "name": "stderr",
     "output_type": "stream",
     "text": [
      "100%|██████████| 15/15 [00:17<00:00,  1.16s/it]\n"
     ]
    },
    {
     "name": "stdout",
     "output_type": "stream",
     "text": [
      "Epoch 1: Loss = 0.6975\n"
     ]
    },
    {
     "name": "stderr",
     "output_type": "stream",
     "text": [
      "100%|██████████| 15/15 [00:16<00:00,  1.10s/it]\n"
     ]
    },
    {
     "name": "stdout",
     "output_type": "stream",
     "text": [
      "Epoch 2: Loss = 0.6913\n"
     ]
    },
    {
     "name": "stderr",
     "output_type": "stream",
     "text": [
      "100%|██████████| 15/15 [00:16<00:00,  1.08s/it]\n"
     ]
    },
    {
     "name": "stdout",
     "output_type": "stream",
     "text": [
      "Epoch 3: Loss = 0.6877\n"
     ]
    },
    {
     "name": "stderr",
     "output_type": "stream",
     "text": [
      "100%|██████████| 15/15 [00:14<00:00,  1.05it/s]\n"
     ]
    },
    {
     "name": "stdout",
     "output_type": "stream",
     "text": [
      "Epoch 4: Loss = 0.6920\n"
     ]
    },
    {
     "name": "stderr",
     "output_type": "stream",
     "text": [
      "100%|██████████| 15/15 [00:17<00:00,  1.18s/it]"
     ]
    },
    {
     "name": "stdout",
     "output_type": "stream",
     "text": [
      "Epoch 5: Loss = 0.6881\n"
     ]
    },
    {
     "name": "stderr",
     "output_type": "stream",
     "text": [
      "\n"
     ]
    }
   ],
   "execution_count": 13
  },
  {
   "metadata": {
    "ExecuteTime": {
     "end_time": "2025-07-04T16:07:38.949322Z",
     "start_time": "2025-07-04T16:07:34.318885Z"
    }
   },
   "cell_type": "code",
   "source": "evaluate_model(model,test_loader)",
   "id": "e89f834a7e628aa0",
   "outputs": [
    {
     "name": "stdout",
     "output_type": "stream",
     "text": [
      "Test AUC: 0.4618\n"
     ]
    },
    {
     "data": {
      "text/plain": [
       "<Figure size 600x400 with 1 Axes>"
      ],
      "image/png": "[encoded data removed]"
     },
     "metadata": {},
     "output_type": "display_data"
    }
   ],
   "execution_count": 14
  },
  {
   "metadata": {
    "ExecuteTime": {
     "end_time": "2025-07-04T16:08:50.786516Z",
     "start_time": "2025-07-04T16:07:38.958068Z"
    }
   },
   "cell_type": "code",
   "source": [
    "data = FaceForensicsDataset(\n",
    "    root_dir=\"E:/PythonProject/FaceForensics++\",\n",
    "    method='Face2Face',\n",
    "    compression='c40'\n",
    ")\n",
    "print(\"Loaded\", len(data), \"images\")\n",
    "model, test_loader = train_model(data, \"FFPP_Face2Face_c40\")"
   ],
   "id": "3dea6fd2d1c5dd89",
   "outputs": [
    {
     "name": "stdout",
     "output_type": "stream",
     "text": [
      "Loaded 1807 images\n"
     ]
    },
    {
     "name": "stderr",
     "output_type": "stream",
     "text": [
      "100%|██████████| 15/15 [00:18<00:00,  1.23s/it]\n"
     ]
    },
    {
     "name": "stdout",
     "output_type": "stream",
     "text": [
      "Epoch 1: Loss = 0.6873\n"
     ]
    },
    {
     "name": "stderr",
     "output_type": "stream",
     "text": [
      "100%|██████████| 15/15 [00:13<00:00,  1.08it/s]\n"
     ]
    },
    {
     "name": "stdout",
     "output_type": "stream",
     "text": [
      "Epoch 2: Loss = 0.6713\n"
     ]
    },
    {
     "name": "stderr",
     "output_type": "stream",
     "text": [
      "100%|██████████| 15/15 [00:12<00:00,  1.16it/s]\n"
     ]
    },
    {
     "name": "stdout",
     "output_type": "stream",
     "text": [
      "Epoch 3: Loss = 0.6587\n"
     ]
    },
    {
     "name": "stderr",
     "output_type": "stream",
     "text": [
      "100%|██████████| 15/15 [00:13<00:00,  1.12it/s]\n"
     ]
    },
    {
     "name": "stdout",
     "output_type": "stream",
     "text": [
      "Epoch 4: Loss = 0.6478\n"
     ]
    },
    {
     "name": "stderr",
     "output_type": "stream",
     "text": [
      "100%|██████████| 15/15 [00:13<00:00,  1.14it/s]"
     ]
    },
    {
     "name": "stdout",
     "output_type": "stream",
     "text": [
      "Epoch 5: Loss = 0.6475\n"
     ]
    },
    {
     "name": "stderr",
     "output_type": "stream",
     "text": [
      "\n"
     ]
    }
   ],
   "execution_count": 15
  },
  {
   "metadata": {
    "ExecuteTime": {
     "end_time": "2025-07-04T16:08:55.687532Z",
     "start_time": "2025-07-04T16:08:50.842985Z"
    }
   },
   "cell_type": "code",
   "source": "evaluate_model(model,test_loader)",
   "id": "339825c7b7a6b4ff",
   "outputs": [
    {
     "name": "stdout",
     "output_type": "stream",
     "text": [
      "Test AUC: 0.5656\n"
     ]
    },
    {
     "data": {
      "text/plain": [
       "<Figure size 600x400 with 1 Axes>"
      ],
      "image/png": "[encoded data removed]"
     },
     "metadata": {},
     "output_type": "display_data"
    }
   ],
   "execution_count": 16
  },
  {
   "metadata": {
    "ExecuteTime": {
     "end_time": "2025-07-04T16:10:12.018751Z",
     "start_time": "2025-07-04T16:08:55.709926Z"
    }
   },
   "cell_type": "code",
   "source": [
    "data = FaceForensicsDataset(\n",
    "    root_dir=\"E:/PythonProject/FaceForensics++\",\n",
    "    method='FaceShifter',\n",
    "    compression='c40'\n",
    ")\n",
    "print(\"Loaded\", len(data), \"images\")\n",
    "model, test_loader = train_model(data, \"FFPP_FaceShifter_c40\")"
   ],
   "id": "807e3ad0588bb26d",
   "outputs": [
    {
     "name": "stdout",
     "output_type": "stream",
     "text": [
      "Loaded 1758 images\n"
     ]
    },
    {
     "name": "stderr",
     "output_type": "stream",
     "text": [
      "100%|██████████| 15/15 [00:14<00:00,  1.05it/s]\n"
     ]
    },
    {
     "name": "stdout",
     "output_type": "stream",
     "text": [
      "Epoch 1: Loss = 0.6977\n"
     ]
    },
    {
     "name": "stderr",
     "output_type": "stream",
     "text": [
      "100%|██████████| 15/15 [00:13<00:00,  1.14it/s]\n"
     ]
    },
    {
     "name": "stdout",
     "output_type": "stream",
     "text": [
      "Epoch 2: Loss = 0.6918\n"
     ]
    },
    {
     "name": "stderr",
     "output_type": "stream",
     "text": [
      "100%|██████████| 15/15 [00:13<00:00,  1.11it/s]\n"
     ]
    },
    {
     "name": "stdout",
     "output_type": "stream",
     "text": [
      "Epoch 3: Loss = 0.6895\n"
     ]
    },
    {
     "name": "stderr",
     "output_type": "stream",
     "text": [
      "100%|██████████| 15/15 [00:14<00:00,  1.06it/s]\n"
     ]
    },
    {
     "name": "stdout",
     "output_type": "stream",
     "text": [
      "Epoch 4: Loss = 0.6849\n"
     ]
    },
    {
     "name": "stderr",
     "output_type": "stream",
     "text": [
      "100%|██████████| 15/15 [00:21<00:00,  1.41s/it]"
     ]
    },
    {
     "name": "stdout",
     "output_type": "stream",
     "text": [
      "Epoch 5: Loss = 0.6834\n"
     ]
    },
    {
     "name": "stderr",
     "output_type": "stream",
     "text": [
      "\n"
     ]
    }
   ],
   "execution_count": 17
  },
  {
   "metadata": {
    "ExecuteTime": {
     "end_time": "2025-07-04T16:10:17.828313Z",
     "start_time": "2025-07-04T16:10:12.070346Z"
    }
   },
   "cell_type": "code",
   "source": "evaluate_model(model,test_loader)",
   "id": "6912f613acb80ad8",
   "outputs": [
    {
     "name": "stdout",
     "output_type": "stream",
     "text": [
      "Test AUC: 0.4294\n"
     ]
    },
    {
     "data": {
      "text/plain": [
       "<Figure size 600x400 with 1 Axes>"
      ],
      "image/png": "[encoded data removed]"
     },
     "metadata": {},
     "output_type": "display_data"
    }
   ],
   "execution_count": 18
  },
  {
   "metadata": {
    "ExecuteTime": {
     "end_time": "2025-07-04T16:11:31.998898Z",
     "start_time": "2025-07-04T16:10:17.853466Z"
    }
   },
   "cell_type": "code",
   "source": [
    "data = FaceForensicsDataset(\n",
    "    root_dir=\"E:/PythonProject/FaceForensics++\",\n",
    "    method='FaceSwap',\n",
    "    compression='c40'\n",
    ")\n",
    "print(\"Loaded\", len(data), \"images\")\n",
    "model, test_loader = train_model(data, \"FFPP_FaceShifter_c40\")"
   ],
   "id": "57556fd7b9a095bc",
   "outputs": [
    {
     "name": "stdout",
     "output_type": "stream",
     "text": [
      "Loaded 1601 images\n"
     ]
    },
    {
     "name": "stderr",
     "output_type": "stream",
     "text": [
      "100%|██████████| 13/13 [00:17<00:00,  1.32s/it]\n"
     ]
    },
    {
     "name": "stdout",
     "output_type": "stream",
     "text": [
      "Epoch 1: Loss = 0.6911\n"
     ]
    },
    {
     "name": "stderr",
     "output_type": "stream",
     "text": [
      "100%|██████████| 13/13 [00:17<00:00,  1.34s/it]\n"
     ]
    },
    {
     "name": "stdout",
     "output_type": "stream",
     "text": [
      "Epoch 2: Loss = 0.6804\n"
     ]
    },
    {
     "name": "stderr",
     "output_type": "stream",
     "text": [
      "100%|██████████| 13/13 [00:14<00:00,  1.12s/it]\n"
     ]
    },
    {
     "name": "stdout",
     "output_type": "stream",
     "text": [
      "Epoch 3: Loss = 0.6799\n"
     ]
    },
    {
     "name": "stderr",
     "output_type": "stream",
     "text": [
      "100%|██████████| 13/13 [00:12<00:00,  1.03it/s]\n"
     ]
    },
    {
     "name": "stdout",
     "output_type": "stream",
     "text": [
      "Epoch 4: Loss = 0.6728\n"
     ]
    },
    {
     "name": "stderr",
     "output_type": "stream",
     "text": [
      "100%|██████████| 13/13 [00:12<00:00,  1.06it/s]"
     ]
    },
    {
     "name": "stdout",
     "output_type": "stream",
     "text": [
      "Epoch 5: Loss = 0.6693\n"
     ]
    },
    {
     "name": "stderr",
     "output_type": "stream",
     "text": [
      "\n"
     ]
    }
   ],
   "execution_count": 19
  },
  {
   "metadata": {
    "ExecuteTime": {
     "end_time": "2025-07-04T16:11:36.607871Z",
     "start_time": "2025-07-04T16:11:32.033008Z"
    }
   },
   "cell_type": "code",
   "source": "evaluate_model(model,test_loader)",
   "id": "c3b148c750b1d55d",
   "outputs": [
    {
     "name": "stdout",
     "output_type": "stream",
     "text": [
      "Test AUC: 0.4799\n"
     ]
    },
    {
     "data": {
      "text/plain": [
       "<Figure size 600x400 with 1 Axes>"
      ],
      "image/png": "[encoded data removed]"
     },
     "metadata": {},
     "output_type": "display_data"
    }
   ],
   "execution_count": 20
  },
  {
   "metadata": {},
   "cell_type": "code",
   "outputs": [],
   "execution_count": null,
   "source": "",
   "id": "1514d95dad309e7c"
  }
 ],
 "metadata": {
  "kernelspec": {
   "display_name": "Python 3",
   "language": "python",
   "name": "python3"
  },
  "language_info": {
   "codemirror_mode": {
    "name": "ipython",
    "version": 2
   },
   "file_extension": ".py",
   "mimetype": "text/x-python",
   "name": "python",
   "nbconvert_exporter": "python",
   "pygments_lexer": "ipython2",
   "version": "2.7.6"
  }
 },
 "nbformat": 4,
 "nbformat_minor": 5
}
