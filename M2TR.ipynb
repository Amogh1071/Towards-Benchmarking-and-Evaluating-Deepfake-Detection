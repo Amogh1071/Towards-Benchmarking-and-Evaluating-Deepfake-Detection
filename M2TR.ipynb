{
 "cells": [
  {
   "cell_type": "code",
   "id": "initial_id",
   "metadata": {
    "collapsed": true,
    "ExecuteTime": {
     "end_time": "2025-07-03T23:12:52.716022Z",
     "start_time": "2025-07-03T23:12:43.351361Z"
    }
   },
   "source": [
    "# Cell 1: Imports\n",
    "import os\n",
    "import glob\n",
    "from PIL import Image\n",
    "import torch\n",
    "import torch.nn as nn\n",
    "import torchvision.transforms as transforms\n",
    "from torch.utils.data import Dataset, DataLoader\n",
    "from sklearn.metrics import roc_auc_score, roc_curve\n",
    "import matplotlib.pyplot as plt\n",
    "import numpy as np\n",
    "from tqdm import tqdm\n",
    "import timm  # Pretrained models including EfficientNet\n",
    "import glob\n"
   ],
   "outputs": [
    {
     "name": "stderr",
     "output_type": "stream",
     "text": [
      "E:\\PythonProject\\.venv\\lib\\site-packages\\tqdm\\auto.py:21: TqdmWarning: IProgress not found. Please update jupyter and ipywidgets. See https://ipywidgets.readthedocs.io/en/stable/user_install.html\n",
      "  from .autonotebook import tqdm as notebook_tqdm\n"
     ]
    }
   ],
   "execution_count": 1
  },
  {
   "metadata": {
    "ExecuteTime": {
     "end_time": "2025-07-03T23:13:02.752505Z",
     "start_time": "2025-07-03T23:13:02.736708Z"
    }
   },
   "cell_type": "code",
   "source": [
    "class UADFVFrameDataset(Dataset):\n",
    "    def __init__(self, root_dir, transform=None):\n",
    "        self.samples = []\n",
    "        self.transform = transform\n",
    "\n",
    "        for label, class_name in enumerate(['real', 'fake']):\n",
    "            class_path = os.path.join(root_dir, class_name, 'frames')\n",
    "            video_folders = glob.glob(os.path.join(class_path, '*'))\n",
    "\n",
    "            for folder in video_folders:\n",
    "                for img_path in glob.glob(os.path.join(folder, '*.png')):\n",
    "                    self.samples.append((img_path, label))\n",
    "\n",
    "    def __len__(self):\n",
    "        return len(self.samples)\n",
    "\n",
    "    def __getitem__(self, idx):\n",
    "        img_path, label = self.samples[idx]\n",
    "        img = Image.open(img_path).convert('RGB')\n",
    "        if self.transform:\n",
    "            img = self.transform(img)\n",
    "        return img, label"
   ],
   "id": "b154c2f295dbf164",
   "outputs": [],
   "execution_count": 2
  },
  {
   "metadata": {
    "ExecuteTime": {
     "end_time": "2025-07-03T23:13:03.134414Z",
     "start_time": "2025-07-03T23:13:03.118593Z"
    }
   },
   "cell_type": "code",
   "source": [
    "class DFTIMITFrameDataset(Dataset):\n",
    "    def __init__(self, root_dir, transform=None):\n",
    "        self.samples = []\n",
    "        self.transform = transform\n",
    "\n",
    "        for label, class_name in enumerate(['real', 'fake']):\n",
    "            class_path = os.path.join(root_dir, class_name)\n",
    "            video_folders = glob.glob(os.path.join(class_path, '*'))\n",
    "\n",
    "            for folder in video_folders:\n",
    "                for img_path in glob.glob(os.path.join(folder, '*.png')):\n",
    "                    self.samples.append((img_path, label))\n",
    "\n",
    "    def __len__(self):\n",
    "        return len(self.samples)\n",
    "\n",
    "    def __getitem__(self, idx):\n",
    "        img_path, label = self.samples[idx]\n",
    "        img = Image.open(img_path).convert('RGB')\n",
    "        if self.transform:\n",
    "            img = self.transform(img)\n",
    "        return img, label\n"
   ],
   "id": "c071a2ee2edf7a65",
   "outputs": [],
   "execution_count": 3
  },
  {
   "metadata": {
    "ExecuteTime": {
     "end_time": "2025-07-03T23:13:04.113881Z",
     "start_time": "2025-07-03T23:13:04.050217Z"
    }
   },
   "cell_type": "code",
   "source": [
    "import os\n",
    "import cv2\n",
    "import glob\n",
    "from tqdm import tqdm\n",
    "\n",
    "def extract_frames_from_videos(video_dir, output_dir, fps=1):\n",
    "    os.makedirs(output_dir, exist_ok=True)\n",
    "    video_files = glob.glob(os.path.join(video_dir, '*.mp4'))  # ✅ Correct usage\n",
    "\n",
    "    for video_path in tqdm(video_files, desc=\"Extracting frames\"):\n",
    "        video_name = os.path.splitext(os.path.basename(video_path))[0]\n",
    "        frame_output_dir = os.path.join(output_dir, video_name)\n",
    "        os.makedirs(frame_output_dir, exist_ok=True)\n",
    "\n",
    "        cap = cv2.VideoCapture(video_path)\n",
    "        frame_rate = cap.get(cv2.CAP_PROP_FPS)\n",
    "        frame_interval = int(frame_rate // fps) if fps < frame_rate else 1\n",
    "\n",
    "        frame_count = 0\n",
    "        saved_count = 0\n",
    "        while cap.isOpened():\n",
    "            ret, frame = cap.read()\n",
    "            if not ret:\n",
    "                break\n",
    "            if frame_count % frame_interval == 0:\n",
    "                out_path = os.path.join(frame_output_dir, f\"{saved_count:04d}.png\")\n",
    "                cv2.imwrite(out_path, frame)\n",
    "                saved_count += 1\n",
    "            frame_count += 1\n",
    "        cap.release()"
   ],
   "id": "2d7dae8c0002307c",
   "outputs": [],
   "execution_count": 4
  },
  {
   "metadata": {
    "ExecuteTime": {
     "end_time": "2025-07-03T05:03:11.629042Z",
     "start_time": "2025-07-03T04:58:06.935154Z"
    }
   },
   "cell_type": "code",
   "source": [
    "# Example for Deepfakes/c40\n",
    "extract_frames_from_videos(\n",
    "    video_dir='E:/PythonProject/FaceForensics++/manipulated_sequences/Deepfakes/c40/videos',\n",
    "    output_dir='E:/PythonProject/FaceForensics++/manipulated_sequences/Deepfakes/c40/frames',\n",
    "    fps=1\n",
    ")\n",
    "\n",
    "# Similarly extract real/original videos\n",
    "extract_frames_from_videos(\n",
    "    video_dir='E:/PythonProject/FaceForensics++/original_sequences/youtube/c40/videos',\n",
    "    output_dir='E:/PythonProject/FaceForensics++/original_sequences/youtube/c40/frames',\n",
    "    fps=1\n",
    ")\n"
   ],
   "id": "a782d3a3b1ce0d63",
   "outputs": [
    {
     "name": "stderr",
     "output_type": "stream",
     "text": [
      "Extracting frames: 100%|██████████| 50/50 [02:48<00:00,  3.37s/it]\n",
      "Extracting frames: 100%|██████████| 50/50 [02:16<00:00,  2.73s/it]\n"
     ]
    }
   ],
   "execution_count": 30
  },
  {
   "metadata": {
    "ExecuteTime": {
     "end_time": "2025-07-03T23:13:07.899022Z",
     "start_time": "2025-07-03T23:13:07.883060Z"
    }
   },
   "cell_type": "code",
   "source": [
    "class FaceForensicsDataset(Dataset):\n",
    "    def __init__(self, root_dir, method='Deepfakes', compression='c40', transform=None):\n",
    "        self.samples = []\n",
    "        self.transform = transform\n",
    "\n",
    "        # Real frames\n",
    "        real_path = os.path.join(root_dir, 'original_sequences', 'youtube', compression, 'frames')\n",
    "        real_video_dirs = glob.glob(os.path.join(real_path, '*'))\n",
    "        for folder in real_video_dirs:\n",
    "            for img_path in glob.glob(os.path.join(folder, '*.png')):\n",
    "                self.samples.append((img_path, 0))\n",
    "\n",
    "        # Fake frames\n",
    "        fake_path = os.path.join(root_dir, 'manipulated_sequences', method, compression, 'frames')\n",
    "        fake_video_dirs = glob.glob(os.path.join(fake_path, '*'))\n",
    "        for folder in fake_video_dirs:\n",
    "            for img_path in glob.glob(os.path.join(folder, '*.png')):\n",
    "                self.samples.append((img_path, 1))\n",
    "\n",
    "    def __len__(self):\n",
    "        return len(self.samples)\n",
    "\n",
    "    def __getitem__(self, idx):\n",
    "        img_path, label = self.samples[idx]\n",
    "        img = Image.open(img_path).convert('RGB')\n",
    "        if self.transform:\n",
    "            img = self.transform(img)\n",
    "        return img, label\n"
   ],
   "id": "a5d9e30e5d9f5fc",
   "outputs": [],
   "execution_count": 5
  },
  {
   "metadata": {
    "ExecuteTime": {
     "end_time": "2025-07-03T23:13:08.753479Z",
     "start_time": "2025-07-03T23:13:08.745709Z"
    }
   },
   "cell_type": "code",
   "source": [
    "train_transform = transforms.Compose([\n",
    "    transforms.Resize((256, 256)),\n",
    "    transforms.RandomHorizontalFlip(p=0.5),\n",
    "    transforms.ColorJitter(brightness=0.2, contrast=0.2, saturation=0.2, hue=0.1),\n",
    "    transforms.RandomRotation(10),\n",
    "    transforms.ToTensor(),\n",
    "    transforms.Normalize(mean=[0.485, 0.456, 0.406], std=[0.229, 0.224, 0.225])\n",
    "])\n",
    "\n",
    "eval_transform = transforms.Compose([\n",
    "    transforms.Resize((256, 256)),\n",
    "    transforms.ToTensor(),\n",
    "    transforms.Normalize(mean=[0.485, 0.456, 0.406], std=[0.229, 0.224, 0.225])\n",
    "])\n"
   ],
   "id": "8fdaf2a0dfd5597d",
   "outputs": [],
   "execution_count": 6
  },
  {
   "metadata": {
    "ExecuteTime": {
     "end_time": "2025-07-03T23:13:10.637966Z",
     "start_time": "2025-07-03T23:13:10.605835Z"
    }
   },
   "cell_type": "code",
   "source": [
    "import torch\n",
    "import torch.nn as nn\n",
    "import torch.nn.functional as F\n",
    "import timm\n",
    "\n",
    "\n",
    "class FrequencyFilter(nn.Module):\n",
    "    def __init__(self):\n",
    "        super(FrequencyFilter, self).__init__()\n",
    "        self.conv = nn.Sequential(\n",
    "            nn.Conv2d(3, 32, kernel_size=3, padding=1),\n",
    "            nn.ReLU(),\n",
    "            nn.Conv2d(32, 64, kernel_size=3, padding=1),\n",
    "            nn.ReLU(),\n",
    "            nn.Conv2d(64, 128, kernel_size=3, padding=1),\n",
    "            nn.ReLU()\n",
    "        )\n",
    "\n",
    "    def forward(self, x):\n",
    "        # Apply FFT on each image in the batch\n",
    "        x_fft = torch.fft.fft2(x, dim=(-2, -1)).abs()\n",
    "        return self.conv(x_fft)\n",
    "\n",
    "\n",
    "class TransformerEncoder(nn.Module):\n",
    "    def __init__(self, dim=128, depth=4, heads=8, mlp_dim=256):\n",
    "        super(TransformerEncoder, self).__init__()\n",
    "        encoder_layer = nn.TransformerEncoderLayer(\n",
    "            d_model=dim,\n",
    "            nhead=heads,\n",
    "            dim_feedforward=mlp_dim,\n",
    "            dropout=0.1,\n",
    "            activation='relu',\n",
    "            batch_first=True\n",
    "        )\n",
    "        self.transformer = nn.TransformerEncoder(encoder_layer, num_layers=depth)\n",
    "\n",
    "    def forward(self, x):\n",
    "        return self.transformer(x)\n",
    "\n",
    "\n",
    "class M2TRModel(nn.Module):\n",
    "    def __init__(self):\n",
    "        super(M2TRModel, self).__init__()\n",
    "\n",
    "        # ✅ EfficientNet-B0: lightweight backbone\n",
    "        self.backbone = timm.create_model('efficientnet_b0', pretrained=True, num_classes=0, global_pool='')\n",
    "        self.spatial_pool = nn.AdaptiveAvgPool2d((14, 14))  # [B, 1280, 14, 14]\n",
    "\n",
    "        # ✅ Frequency domain branch\n",
    "        self.freq_branch = FrequencyFilter()\n",
    "\n",
    "        # ✅ Project both to same dimension\n",
    "        self.proj_spatial = nn.Conv2d(1280, 128, kernel_size=1)\n",
    "        self.proj_freq = nn.Conv2d(128, 128, kernel_size=1)\n",
    "\n",
    "        # ✅ Flatten for transformer\n",
    "        self.flatten = lambda x: x.flatten(2).transpose(1, 2)  # [B, N, C]\n",
    "\n",
    "        # ✅ Transformer encoder\n",
    "        self.encoder = TransformerEncoder(dim=128, depth=4, heads=8, mlp_dim=256)\n",
    "\n",
    "        # ✅ Final classifier\n",
    "        self.cls = nn.Sequential(\n",
    "            nn.Linear(128, 64),\n",
    "            nn.ReLU(),\n",
    "            nn.Dropout(0.3),\n",
    "            nn.Linear(64, 1),\n",
    "            nn.Sigmoid()\n",
    "        )\n",
    "\n",
    "    def forward(self, x):\n",
    "        # Spatial features\n",
    "        spatial_feat = self.backbone.forward_features(x)  # [B, 1280, H, W]\n",
    "        spatial_feat = self.spatial_pool(spatial_feat)    # [B, 1280, 14, 14]\n",
    "        spatial_feat = self.proj_spatial(spatial_feat)    # [B, 128, 14, 14]\n",
    "\n",
    "        # Frequency features\n",
    "        freq_feat = self.freq_branch(x)                   # [B, 128, H, W]\n",
    "        freq_feat = self.proj_freq(freq_feat)             # [B, 128, H, W]\n",
    "        freq_feat = F.interpolate(freq_feat, size=spatial_feat.shape[-2:], mode='bilinear', align_corners=False)\n",
    "\n",
    "        # Fuse features\n",
    "        fused = spatial_feat + freq_feat                  # [B, 128, 14, 14]\n",
    "        tokens = self.flatten(fused)                      # [B, 196, 128]\n",
    "\n",
    "        # Transformer encoding\n",
    "        encoded = self.encoder(tokens)                    # [B, 196, 128]\n",
    "        global_feat = encoded.mean(dim=1)                 # [B, 128]\n",
    "\n",
    "        return self.cls(global_feat).squeeze(1)           # [B]\n"
   ],
   "id": "f1952c42681a9600",
   "outputs": [],
   "execution_count": 7
  },
  {
   "metadata": {
    "ExecuteTime": {
     "end_time": "2025-07-03T23:13:21.850161Z",
     "start_time": "2025-07-03T23:13:21.834472Z"
    }
   },
   "cell_type": "code",
   "source": [
    "def train_model(dataset, name):\n",
    "    device = torch.device(\"cuda\" if torch.cuda.is_available() else \"cpu\")\n",
    "    model = M2TRModel().to(device)\n",
    "    optimizer = torch.optim.Adam(model.parameters(), lr=0.0001)\n",
    "    criterion = nn.BCELoss()\n",
    "\n",
    "    dataset_size = len(dataset)\n",
    "    train_size = int(0.6 * dataset_size)\n",
    "    val_size = int(0.2 * dataset_size)\n",
    "    test_size = dataset_size - train_size - val_size\n",
    "\n",
    "    train_dataset, val_dataset, test_dataset = torch.utils.data.random_split(\n",
    "        dataset, [train_size, val_size, test_size],\n",
    "        generator=torch.Generator().manual_seed(42)\n",
    "    )\n",
    "\n",
    "    train_dataset.dataset.transform = train_transform\n",
    "    val_dataset.dataset.transform = eval_transform\n",
    "    test_dataset.dataset.transform = eval_transform\n",
    "\n",
    "    train_loader = DataLoader(train_dataset, batch_size=8, shuffle=True)\n",
    "    test_loader = DataLoader(test_dataset, batch_size=8, shuffle=False)\n",
    "\n",
    "    def train_epoch():\n",
    "        model.train()\n",
    "        total_loss = 0\n",
    "        for images, labels in tqdm(train_loader):\n",
    "            images, labels = images.to(device), labels.float().to(device)\n",
    "            preds = model(images)\n",
    "            loss = criterion(preds, labels)\n",
    "            optimizer.zero_grad()\n",
    "            loss.backward()\n",
    "            optimizer.step()\n",
    "            total_loss += loss.item() * images.size(0)\n",
    "        return total_loss / len(train_loader.dataset)\n",
    "\n",
    "    for epoch in range(5):\n",
    "        loss = train_epoch()\n",
    "        print(f\"Epoch {epoch+1}: Loss = {loss:.4f}\")\n",
    "\n",
    "    os.makedirs(f\"saved_models/{name}\", exist_ok=True)\n",
    "    torch.save(model.state_dict(), f\"saved_models/{name}/model.pth\")\n",
    "    return model, test_loader\n"
   ],
   "id": "ce7a9c03fac7ef69",
   "outputs": [],
   "execution_count": 8
  },
  {
   "metadata": {
    "ExecuteTime": {
     "end_time": "2025-07-03T23:13:24.853653Z",
     "start_time": "2025-07-03T23:13:23.932491Z"
    }
   },
   "cell_type": "code",
   "source": [
    "import torch\n",
    "\n",
    "if torch.cuda.is_available():\n",
    "    print(\"✅ GPU is available:\", torch.cuda.get_device_name(0))\n",
    "else:\n",
    "    print(\"❌ GPU is not available. Using CPU.\")"
   ],
   "id": "b0a8496c00c1a7e1",
   "outputs": [
    {
     "name": "stdout",
     "output_type": "stream",
     "text": [
      "✅ GPU is available: NVIDIA GeForce RTX 3080 Ti Laptop GPU\n"
     ]
    }
   ],
   "execution_count": 9
  },
  {
   "metadata": {
    "ExecuteTime": {
     "end_time": "2025-07-03T23:13:28.299296Z",
     "start_time": "2025-07-03T23:13:28.283573Z"
    }
   },
   "cell_type": "code",
   "source": [
    "import torch\n",
    "torch.cuda.empty_cache()\n"
   ],
   "id": "aee6985890f4c64d",
   "outputs": [],
   "execution_count": 10
  },
  {
   "metadata": {
    "ExecuteTime": {
     "end_time": "2025-07-03T23:13:29.299284Z",
     "start_time": "2025-07-03T23:13:29.283636Z"
    }
   },
   "cell_type": "code",
   "source": [
    "def evaluate_model(model, test_loader):\n",
    "    model.eval()\n",
    "    all_labels = []\n",
    "    all_preds = []\n",
    "    device = torch.device(\"cuda\" if torch.cuda.is_available() else \"cpu\")\n",
    "\n",
    "    with torch.no_grad():\n",
    "        for images, labels in test_loader:\n",
    "            images = images.to(device)\n",
    "            preds = model(images)\n",
    "            all_preds.extend(preds.cpu().numpy())\n",
    "            all_labels.extend(labels.numpy())\n",
    "\n",
    "    auc = roc_auc_score(all_labels, all_preds)\n",
    "    print(f\"Test AUC: {auc:.4f}\")\n",
    "\n",
    "    fpr, tpr, _ = roc_curve(all_labels, all_preds)\n",
    "    plt.figure(figsize=(6, 4))\n",
    "    plt.plot(fpr, tpr, label=f'Test AUC = {auc:.4f}')\n",
    "    plt.plot([0, 1], [0, 1], 'k--')\n",
    "    plt.xlabel('False Positive Rate')\n",
    "    plt.ylabel('True Positive Rate')\n",
    "    plt.title('ROC Curve on Test Set')\n",
    "    plt.legend()\n",
    "    plt.grid(True)\n",
    "    plt.show()"
   ],
   "id": "80adc75ca3a9410",
   "outputs": [],
   "execution_count": 11
  },
  {
   "metadata": {
    "ExecuteTime": {
     "end_time": "2025-07-03T23:20:40.412383Z",
     "start_time": "2025-07-03T23:20:40.400608Z"
    }
   },
   "cell_type": "code",
   "source": [
    "allocated = torch.cuda.memory_allocated() / 1024 ** 2\n",
    "reserved = torch.cuda.memory_reserved() / 1024 ** 2\n",
    "print(f\"Allocated: {allocated:.2f} MB, Reserved: {reserved:.2f} MB\")\n"
   ],
   "id": "ed1971ecb38b9439",
   "outputs": [
    {
     "name": "stdout",
     "output_type": "stream",
     "text": [
      "Allocated: 53.31 MB, Reserved: 3070.00 MB\n"
     ]
    }
   ],
   "execution_count": 15
  },
  {
   "metadata": {
    "ExecuteTime": {
     "end_time": "2025-07-03T23:18:03.080447Z",
     "start_time": "2025-07-03T23:13:35.722266Z"
    }
   },
   "cell_type": "code",
   "source": [
    "data = UADFVFrameDataset(\"E:/PythonProject/UADFV\")\n",
    "model, test_loader = train_model(data, \"UADFV\")"
   ],
   "id": "d53e67cc523ac03d",
   "outputs": [
    {
     "name": "stderr",
     "output_type": "stream",
     "text": [
      "100%|██████████| 231/231 [00:42<00:00,  5.40it/s]\n"
     ]
    },
    {
     "name": "stdout",
     "output_type": "stream",
     "text": [
      "Epoch 1: Loss = 0.2962\n"
     ]
    },
    {
     "name": "stderr",
     "output_type": "stream",
     "text": [
      "100%|██████████| 231/231 [00:56<00:00,  4.08it/s]\n"
     ]
    },
    {
     "name": "stdout",
     "output_type": "stream",
     "text": [
      "Epoch 2: Loss = 0.1162\n"
     ]
    },
    {
     "name": "stderr",
     "output_type": "stream",
     "text": [
      "100%|██████████| 231/231 [00:59<00:00,  3.89it/s]\n"
     ]
    },
    {
     "name": "stdout",
     "output_type": "stream",
     "text": [
      "Epoch 3: Loss = 0.0796\n"
     ]
    },
    {
     "name": "stderr",
     "output_type": "stream",
     "text": [
      "100%|██████████| 231/231 [00:56<00:00,  4.07it/s]\n"
     ]
    },
    {
     "name": "stdout",
     "output_type": "stream",
     "text": [
      "Epoch 4: Loss = 0.0759\n"
     ]
    },
    {
     "name": "stderr",
     "output_type": "stream",
     "text": [
      "100%|██████████| 231/231 [00:50<00:00,  4.58it/s]"
     ]
    },
    {
     "name": "stdout",
     "output_type": "stream",
     "text": [
      "Epoch 5: Loss = 0.0588\n"
     ]
    },
    {
     "name": "stderr",
     "output_type": "stream",
     "text": [
      "\n"
     ]
    }
   ],
   "execution_count": 13
  },
  {
   "metadata": {
    "ExecuteTime": {
     "end_time": "2025-07-03T23:20:30.035036Z",
     "start_time": "2025-07-03T23:20:12.250778Z"
    }
   },
   "cell_type": "code",
   "source": "evaluate_model(model,test_loader)",
   "id": "eb2f5c871dcdd23c",
   "outputs": [
    {
     "name": "stdout",
     "output_type": "stream",
     "text": [
      "Test AUC: 0.9994\n"
     ]
    },
    {
     "data": {
      "text/plain": [
       "<Figure size 600x400 with 1 Axes>"
      ],
      "image/png": "[encoded data removed]"
     },
     "metadata": {},
     "output_type": "display_data"
    }
   ],
   "execution_count": 14
  },
  {
   "metadata": {
    "ExecuteTime": {
     "end_time": "2025-07-03T23:24:18.105775Z",
     "start_time": "2025-07-03T23:21:56.097843Z"
    }
   },
   "cell_type": "code",
   "source": [
    "data = FaceForensicsDataset(\n",
    "    root_dir=\"E:/PythonProject/FaceForensics++\",\n",
    "    method='Deepfakes',\n",
    "    compression='c40'\n",
    ")\n",
    "print(\"Loaded\", len(data), \"images\")\n",
    "model, test_loader = train_model(data, \"FFPP_Deepfakes_c40\")\n"
   ],
   "id": "b74dde7141ecaa35",
   "outputs": [
    {
     "name": "stdout",
     "output_type": "stream",
     "text": [
      "Loaded 1752 images\n"
     ]
    },
    {
     "name": "stderr",
     "output_type": "stream",
     "text": [
      "100%|██████████| 132/132 [00:27<00:00,  4.79it/s]\n"
     ]
    },
    {
     "name": "stdout",
     "output_type": "stream",
     "text": [
      "Epoch 1: Loss = 0.7009\n"
     ]
    },
    {
     "name": "stderr",
     "output_type": "stream",
     "text": [
      "100%|██████████| 132/132 [00:22<00:00,  5.85it/s]\n"
     ]
    },
    {
     "name": "stdout",
     "output_type": "stream",
     "text": [
      "Epoch 2: Loss = 0.6630\n"
     ]
    },
    {
     "name": "stderr",
     "output_type": "stream",
     "text": [
      "100%|██████████| 132/132 [00:24<00:00,  5.39it/s]\n"
     ]
    },
    {
     "name": "stdout",
     "output_type": "stream",
     "text": [
      "Epoch 3: Loss = 0.5005\n"
     ]
    },
    {
     "name": "stderr",
     "output_type": "stream",
     "text": [
      "100%|██████████| 132/132 [00:30<00:00,  4.37it/s]\n"
     ]
    },
    {
     "name": "stdout",
     "output_type": "stream",
     "text": [
      "Epoch 4: Loss = 0.3997\n"
     ]
    },
    {
     "name": "stderr",
     "output_type": "stream",
     "text": [
      "100%|██████████| 132/132 [00:32<00:00,  4.01it/s]"
     ]
    },
    {
     "name": "stdout",
     "output_type": "stream",
     "text": [
      "Epoch 5: Loss = 0.2809\n"
     ]
    },
    {
     "name": "stderr",
     "output_type": "stream",
     "text": [
      "\n"
     ]
    }
   ],
   "execution_count": 16
  },
  {
   "metadata": {
    "ExecuteTime": {
     "end_time": "2025-07-03T23:25:46.920673Z",
     "start_time": "2025-07-03T23:25:36.603510Z"
    }
   },
   "cell_type": "code",
   "source": "evaluate_model(model,test_loader)",
   "id": "e89f834a7e628aa0",
   "outputs": [
    {
     "name": "stdout",
     "output_type": "stream",
     "text": [
      "Test AUC: 0.9438\n"
     ]
    },
    {
     "data": {
      "text/plain": [
       "<Figure size 600x400 with 1 Axes>"
      ],
      "image/png": "[encoded data removed]"
     },
     "metadata": {},
     "output_type": "display_data"
    }
   ],
   "execution_count": 17
  },
  {
   "metadata": {
    "ExecuteTime": {
     "end_time": "2025-07-03T06:29:13.585073Z",
     "start_time": "2025-07-03T06:26:02.818440Z"
    }
   },
   "cell_type": "code",
   "source": [
    "extract_frames_from_videos(\n",
    "    video_dir='E:/PythonProject/FaceForensics++/manipulated_sequences/Face2Face/c40/videos',\n",
    "    output_dir='E:/PythonProject/FaceForensics++/manipulated_sequences/Face2Face/c40/frames',\n",
    "    fps=1\n",
    ")"
   ],
   "id": "5d100f8234c730e0",
   "outputs": [
    {
     "name": "stderr",
     "output_type": "stream",
     "text": [
      "Extracting frames: 100%|██████████| 50/50 [03:10<00:00,  3.81s/it]\n"
     ]
    }
   ],
   "execution_count": 42
  },
  {
   "metadata": {
    "ExecuteTime": {
     "end_time": "2025-07-03T23:30:58.265876Z",
     "start_time": "2025-07-03T23:26:31.492331Z"
    }
   },
   "cell_type": "code",
   "source": [
    "data = FaceForensicsDataset(\n",
    "    root_dir=\"E:/PythonProject/FaceForensics++\",\n",
    "    method='Face2Face',\n",
    "    compression='c40'\n",
    ")\n",
    "print(\"Loaded\", len(data), \"images\")\n",
    "model, test_loader = train_model(data, \"FFPP_Face2Face_c40\")"
   ],
   "id": "3dea6fd2d1c5dd89",
   "outputs": [
    {
     "name": "stdout",
     "output_type": "stream",
     "text": [
      "Loaded 1807 images\n"
     ]
    },
    {
     "name": "stderr",
     "output_type": "stream",
     "text": [
      "100%|██████████| 136/136 [00:27<00:00,  5.01it/s]\n"
     ]
    },
    {
     "name": "stdout",
     "output_type": "stream",
     "text": [
      "Epoch 1: Loss = 0.6965\n"
     ]
    },
    {
     "name": "stderr",
     "output_type": "stream",
     "text": [
      "100%|██████████| 136/136 [00:30<00:00,  4.48it/s]\n"
     ]
    },
    {
     "name": "stdout",
     "output_type": "stream",
     "text": [
      "Epoch 2: Loss = 0.6904\n"
     ]
    },
    {
     "name": "stderr",
     "output_type": "stream",
     "text": [
      "100%|██████████| 136/136 [00:33<00:00,  4.09it/s]\n"
     ]
    },
    {
     "name": "stdout",
     "output_type": "stream",
     "text": [
      "Epoch 3: Loss = 0.6664\n"
     ]
    },
    {
     "name": "stderr",
     "output_type": "stream",
     "text": [
      "100%|██████████| 136/136 [01:05<00:00,  2.07it/s]\n"
     ]
    },
    {
     "name": "stdout",
     "output_type": "stream",
     "text": [
      "Epoch 4: Loss = 0.6038\n"
     ]
    },
    {
     "name": "stderr",
     "output_type": "stream",
     "text": [
      "100%|██████████| 136/136 [01:49<00:00,  1.25it/s]\n"
     ]
    },
    {
     "name": "stdout",
     "output_type": "stream",
     "text": [
      "Epoch 5: Loss = 0.5343\n"
     ]
    }
   ],
   "execution_count": 18
  },
  {
   "metadata": {
    "ExecuteTime": {
     "end_time": "2025-07-03T23:31:23.214433Z",
     "start_time": "2025-07-03T23:30:58.318744Z"
    }
   },
   "cell_type": "code",
   "source": "evaluate_model(model,test_loader)",
   "id": "339825c7b7a6b4ff",
   "outputs": [
    {
     "name": "stdout",
     "output_type": "stream",
     "text": [
      "Test AUC: 0.7970\n"
     ]
    },
    {
     "data": {
      "text/plain": [
       "<Figure size 600x400 with 1 Axes>"
      ],
      "image/png": "[encoded data removed]"
     },
     "metadata": {},
     "output_type": "display_data"
    }
   ],
   "execution_count": 19
  },
  {
   "metadata": {
    "ExecuteTime": {
     "end_time": "2025-07-03T07:41:11.052711Z",
     "start_time": "2025-07-03T07:38:13.594933Z"
    }
   },
   "cell_type": "code",
   "source": [
    "extract_frames_from_videos(\n",
    "    video_dir='E:/PythonProject/FaceForensics++/manipulated_sequences/FaceShifter/c40/videos',\n",
    "    output_dir='E:/PythonProject/FaceForensics++/manipulated_sequences/FaceShifter/c40/frames',\n",
    "    fps=1\n",
    ")"
   ],
   "id": "e59c28ca2ee9a28a",
   "outputs": [
    {
     "name": "stderr",
     "output_type": "stream",
     "text": [
      "Extracting frames: 100%|██████████| 50/50 [02:57<00:00,  3.55s/it]\n"
     ]
    }
   ],
   "execution_count": 46
  },
  {
   "metadata": {
    "ExecuteTime": {
     "end_time": "2025-07-03T23:40:20.555566Z",
     "start_time": "2025-07-03T23:31:23.254724Z"
    }
   },
   "cell_type": "code",
   "source": [
    "data = FaceForensicsDataset(\n",
    "    root_dir=\"E:/PythonProject/FaceForensics++\",\n",
    "    method='FaceShifter',\n",
    "    compression='c40'\n",
    ")\n",
    "print(\"Loaded\", len(data), \"images\")\n",
    "model, test_loader = train_model(data, \"FFPP_FaceShifter_c40\")"
   ],
   "id": "807e3ad0588bb26d",
   "outputs": [
    {
     "name": "stdout",
     "output_type": "stream",
     "text": [
      "Loaded 1758 images\n"
     ]
    },
    {
     "name": "stderr",
     "output_type": "stream",
     "text": [
      "100%|██████████| 132/132 [01:51<00:00,  1.18it/s]\n"
     ]
    },
    {
     "name": "stdout",
     "output_type": "stream",
     "text": [
      "Epoch 1: Loss = 0.6949\n"
     ]
    },
    {
     "name": "stderr",
     "output_type": "stream",
     "text": [
      "100%|██████████| 132/132 [01:47<00:00,  1.22it/s]\n"
     ]
    },
    {
     "name": "stdout",
     "output_type": "stream",
     "text": [
      "Epoch 2: Loss = 0.6762\n"
     ]
    },
    {
     "name": "stderr",
     "output_type": "stream",
     "text": [
      "100%|██████████| 132/132 [01:43<00:00,  1.28it/s]\n"
     ]
    },
    {
     "name": "stdout",
     "output_type": "stream",
     "text": [
      "Epoch 3: Loss = 0.5039\n"
     ]
    },
    {
     "name": "stderr",
     "output_type": "stream",
     "text": [
      "100%|██████████| 132/132 [01:51<00:00,  1.18it/s]\n"
     ]
    },
    {
     "name": "stdout",
     "output_type": "stream",
     "text": [
      "Epoch 4: Loss = 0.3918\n"
     ]
    },
    {
     "name": "stderr",
     "output_type": "stream",
     "text": [
      "100%|██████████| 132/132 [01:39<00:00,  1.32it/s]"
     ]
    },
    {
     "name": "stdout",
     "output_type": "stream",
     "text": [
      "Epoch 5: Loss = 0.3485\n"
     ]
    },
    {
     "name": "stderr",
     "output_type": "stream",
     "text": [
      "\n"
     ]
    }
   ],
   "execution_count": 20
  },
  {
   "metadata": {
    "ExecuteTime": {
     "end_time": "2025-07-03T23:40:42.984683Z",
     "start_time": "2025-07-03T23:40:20.618833Z"
    }
   },
   "cell_type": "code",
   "source": "evaluate_model(model,test_loader)",
   "id": "6912f613acb80ad8",
   "outputs": [
    {
     "name": "stdout",
     "output_type": "stream",
     "text": [
      "Test AUC: 0.9736\n"
     ]
    },
    {
     "data": {
      "text/plain": [
       "<Figure size 600x400 with 1 Axes>"
      ],
      "image/png": "[encoded data removed]"
     },
     "metadata": {},
     "output_type": "display_data"
    }
   ],
   "execution_count": 21
  },
  {
   "metadata": {
    "ExecuteTime": {
     "end_time": "2025-07-03T23:48:57.043095Z",
     "start_time": "2025-07-03T23:40:43.020876Z"
    }
   },
   "cell_type": "code",
   "source": [
    "data = FaceForensicsDataset(\n",
    "    root_dir=\"E:/PythonProject/FaceForensics++\",\n",
    "    method='FaceSwap',\n",
    "    compression='c40'\n",
    ")\n",
    "print(\"Loaded\", len(data), \"images\")\n",
    "model, test_loader = train_model(data, \"FFPP_FaceShifter_c40\")"
   ],
   "id": "ab952431bf9d41a8",
   "outputs": [
    {
     "name": "stdout",
     "output_type": "stream",
     "text": [
      "Loaded 1601 images\n"
     ]
    },
    {
     "name": "stderr",
     "output_type": "stream",
     "text": [
      "100%|██████████| 120/120 [01:41<00:00,  1.19it/s]\n"
     ]
    },
    {
     "name": "stdout",
     "output_type": "stream",
     "text": [
      "Epoch 1: Loss = 0.6970\n"
     ]
    },
    {
     "name": "stderr",
     "output_type": "stream",
     "text": [
      "100%|██████████| 120/120 [01:38<00:00,  1.22it/s]\n"
     ]
    },
    {
     "name": "stdout",
     "output_type": "stream",
     "text": [
      "Epoch 2: Loss = 0.6896\n"
     ]
    },
    {
     "name": "stderr",
     "output_type": "stream",
     "text": [
      "100%|██████████| 120/120 [01:35<00:00,  1.26it/s]\n"
     ]
    },
    {
     "name": "stdout",
     "output_type": "stream",
     "text": [
      "Epoch 3: Loss = 0.6724\n"
     ]
    },
    {
     "name": "stderr",
     "output_type": "stream",
     "text": [
      "100%|██████████| 120/120 [01:38<00:00,  1.22it/s]\n"
     ]
    },
    {
     "name": "stdout",
     "output_type": "stream",
     "text": [
      "Epoch 4: Loss = 0.5716\n"
     ]
    },
    {
     "name": "stderr",
     "output_type": "stream",
     "text": [
      "100%|██████████| 120/120 [01:38<00:00,  1.22it/s]"
     ]
    },
    {
     "name": "stdout",
     "output_type": "stream",
     "text": [
      "Epoch 5: Loss = 0.4432\n"
     ]
    },
    {
     "name": "stderr",
     "output_type": "stream",
     "text": [
      "\n"
     ]
    }
   ],
   "execution_count": 22
  },
  {
   "metadata": {
    "ExecuteTime": {
     "end_time": "2025-07-03T23:49:19.266138Z",
     "start_time": "2025-07-03T23:48:57.074314Z"
    }
   },
   "cell_type": "code",
   "source": "evaluate_model(model,test_loader)",
   "id": "e980101fc121ba8d",
   "outputs": [
    {
     "name": "stdout",
     "output_type": "stream",
     "text": [
      "Test AUC: 0.9030\n"
     ]
    },
    {
     "data": {
      "text/plain": [
       "<Figure size 600x400 with 1 Axes>"
      ],
      "image/png": "[encoded data removed]"
     },
     "metadata": {},
     "output_type": "display_data"
    }
   ],
   "execution_count": 23
  },
  {
   "metadata": {},
   "cell_type": "code",
   "outputs": [],
   "execution_count": null,
   "source": "",
   "id": "822a5bce583a1bc7"
  }
 ],
 "metadata": {
  "kernelspec": {
   "display_name": "Python 3",
   "language": "python",
   "name": "python3"
  },
  "language_info": {
   "codemirror_mode": {
    "name": "ipython",
    "version": 2
   },
   "file_extension": ".py",
   "mimetype": "text/x-python",
   "name": "python",
   "nbconvert_exporter": "python",
   "pygments_lexer": "ipython2",
   "version": "2.7.6"
  }
 },
 "nbformat": 4,
 "nbformat_minor": 5
}
